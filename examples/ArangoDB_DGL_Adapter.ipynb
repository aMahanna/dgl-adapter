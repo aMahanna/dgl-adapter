{
 "cells": [
  {
   "cell_type": "markdown",
   "metadata": {
    "id": "q8KesL7xeG89"
   },
   "source": [
    "# ArangoDB DGL Adapter Getting Started Guide  "
   ]
  },
  {
   "cell_type": "markdown",
   "metadata": {
    "id": "U1d45V4OeG89"
   },
   "source": [
    "<a href=\"https://colab.research.google.com/github/arangoml/dgl-adapter/blob/3.0.0/examples/ArangoDB_DGL_Adapter.ipynb\" target=\"_parent\"><img src=\"https://colab.research.google.com/assets/colab-badge.svg\" alt=\"Open In Colab\"/></a>"
   ]
  },
  {
   "cell_type": "markdown",
   "metadata": {
    "id": "Nx9aa3LAeG89"
   },
   "source": [
    "![arangodb](https://raw.githubusercontent.com/arangoml/dgl-adapter/master/examples/assets/adb_logo.png)\n",
    "<img src=\"https://raw.githubusercontent.com/arangoml/dgl-adapter/master/examples/assets/dgl_logo.png\" width=40% />"
   ]
  },
  {
   "cell_type": "markdown",
   "metadata": {
    "id": "bpvZS-1aeG89"
   },
   "source": [
    "Version: 3.0.0\n",
    "\n",
    "Objective: Export Graphs from [ArangoDB](https://www.arangodb.com/), a multi-model Graph Database, to [Deep Graph Library](https://www.dgl.ai/) (DGL), a python package for graph neural networks, and vice-versa."
   ]
  },
  {
   "cell_type": "markdown",
   "metadata": {
    "id": "KS9c-vE5eG89"
   },
   "source": [
    "# Setup"
   ]
  },
  {
   "cell_type": "code",
   "execution_count": null,
   "metadata": {
    "id": "fUnFAFAheG89"
   },
   "outputs": [],
   "source": [
    "%%capture\n",
    "!pip install adbdgl-adapter==3.0.0\n",
    "!pip install adb-cloud-connector\n",
    "!git clone -b 3.0.0 --single-branch https://github.com/arangoml/dgl-adapter.git\n",
    "\n",
    "## For drawing purposes \n",
    "!pip install matplotlib\n",
    "!pip install networkx "
   ]
  },
  {
   "cell_type": "code",
   "execution_count": null,
   "metadata": {
    "colab": {
     "base_uri": "https://localhost:8080/"
    },
    "id": "niijQHqBM6zp",
    "outputId": "77df8f72-4000-44e8-9dd6-c56bbf33c07d"
   },
   "outputs": [],
   "source": [
    "# All imports\n",
    "\n",
    "import pandas\n",
    "import torch\n",
    "import dgl\n",
    "from dgl.data import KarateClubDataset\n",
    "\n",
    "from arango import ArangoClient\n",
    "from adb_cloud_connector import get_temp_credentials\n",
    "\n",
    "from adbdgl_adapter import ADBDGL_Adapter, ADBDGL_Controller\n",
    "from adbdgl_adapter.encoders import IdentityEncoder, CategoricalEncoder\n",
    "\n",
    "import json\n",
    "import logging\n",
    "\n",
    "import matplotlib.pyplot as plt\n",
    "import networkx as nx"
   ]
  },
  {
   "cell_type": "markdown",
   "metadata": {
    "id": "ot1oJqn7m78n"
   },
   "source": [
    "# Understanding DGL"
   ]
  },
  {
   "cell_type": "markdown",
   "metadata": {
    "id": "N6Bx3hTjnGd7"
   },
   "source": [
    "(referenced from [docs.dgl.ai](https://docs.dgl.ai/en/0.6.x/))\n",
    "\n",
    "\n",
    "Deep Graph Library (DGL) is a Python package built for easy implementation of graph neural network model family, on top of existing DL frameworks (currently supporting **PyTorch**, **MXNet** and **TensorFlow**).\n",
    "\n",
    "DGL represents a directed graph as a `DGLGraph` object. You can construct a graph by specifying the number of nodes in the graph as well as the list of source and destination nodes. **Nodes in the graph have consecutive IDs starting from 0.**\n",
    "\n",
    "The following code constructs a directed \"star\" homogeneous graph with 6 nodes and 5 edges. \n"
   ]
  },
  {
   "cell_type": "code",
   "execution_count": null,
   "metadata": {
    "colab": {
     "base_uri": "https://localhost:8080/"
    },
    "id": "vf0350qvj8up",
    "outputId": "bb473200-893d-4d4e-ed6d-239ec497d0e3"
   },
   "outputs": [],
   "source": [
    "# A homogeneous graph with 6 nodes, and 5 edges\n",
    "g = dgl.graph(([0, 0, 0, 0, 0], [1, 2, 3, 4, 5]))\n",
    "print(g)\n",
    "\n",
    "# Print the graph's canonical edge types\n",
    "print(\"\\nCanonical Edge Types: \", g.canonical_etypes)\n",
    "# >>> [('_N', '_E', '_N')]\n",
    "# '_N' being the only Node type\n",
    "# '_E' being the only Edge type"
   ]
  },
  {
   "cell_type": "markdown",
   "metadata": {
    "id": "wvJ0506mkMjz"
   },
   "source": [
    "\n",
    "In DGL, a heterogeneous graph (heterograph for short) is specified with a series of graphs as below, one per relation. Each relation is a string triplet `(source node type, edge type, destination node type)`. Since relations disambiguate the edge types, DGL calls them canonical edge types:"
   ]
  },
  {
   "cell_type": "code",
   "execution_count": null,
   "metadata": {
    "colab": {
     "base_uri": "https://localhost:8080/"
    },
    "id": "oOS3AVAnkQEV",
    "outputId": "5b5feaaa-2a6f-4e0e-ef89-68b9e365a6db"
   },
   "outputs": [],
   "source": [
    "# A heterogeneous graph with 8 nodes, and 7 edges\n",
    "g = dgl.heterograph({\n",
    "    ('user', 'follows', 'user'): (torch.tensor([0, 1]), torch.tensor([1, 2])),\n",
    "    ('user', 'follows', 'game'): (torch.tensor([0, 1, 2]), torch.tensor([1, 2, 3])),\n",
    "    ('user', 'plays', 'game'): (torch.tensor([1, 3]), torch.tensor([2, 3]))\n",
    "})\n",
    "\n",
    "print(g)\n",
    "print(\"\\nCanonical Edge Types: \", g.canonical_etypes)\n",
    "print(\"\\nNode Types: \", g.ntypes)\n",
    "print(\"\\nEdge Types: \", g.etypes)"
   ]
  },
  {
   "cell_type": "markdown",
   "metadata": {
    "id": "5C-R0tkkkS5N"
   },
   "source": [
    "Many graph data contain attributes on nodes and edges. Although the types of node and edge attributes can be arbitrary in real world, **DGLGraph only accepts attributes stored in tensors** (with numerical contents). Consequently, an attribute of all the nodes or edges must have the same shape. In the context of deep learning, those attributes are often called features.\n",
    "\n",
    "You can assign and retrieve node and edge features via ndata and edata interface."
   ]
  },
  {
   "cell_type": "code",
   "execution_count": null,
   "metadata": {
    "colab": {
     "base_uri": "https://localhost:8080/"
    },
    "id": "meLon-KgkU4h",
    "outputId": "7517b39b-adfa-426d-ccae-89254cf642b5"
   },
   "outputs": [],
   "source": [
    "# A homogeneous graph with 6 nodes, and 5 edges\n",
    "g = dgl.graph(([0, 0, 0, 0, 0], [1, 2, 3, 4, 5]))\n",
    "\n",
    "# Assign an integer value for each node.\n",
    "g.ndata['x'] = torch.tensor([151, 124, 41, 89, 76, 55])\n",
    "# Assign a 4-dimensional edge feature vector for each edge.\n",
    "g.edata['a'] = torch.randn(5, 4)\n",
    "\n",
    "print(g)\n",
    "print(\"\\nNode Data X attribute: \", g.ndata['x'])\n",
    "print(\"\\nEdge Data A attribute: \", g.edata['a'])\n",
    "\n",
    "\n",
    "# NOTE: The following line ndata insertion will fail, since not all nodes have been assigned an attribute value\n",
    "# g.ndata['bad_attribute'] = torch.tensor([0,10,20,30,40])"
   ]
  },
  {
   "cell_type": "markdown",
   "metadata": {
    "id": "ETRCZzF1lSLE"
   },
   "source": [
    "When multiple node/edge types are introduced, users need to specify the particular node/edge type when invoking a DGLGraph API for type-specific information. In addition, nodes/edges of different types have separate IDs."
   ]
  },
  {
   "cell_type": "code",
   "execution_count": null,
   "metadata": {
    "colab": {
     "base_uri": "https://localhost:8080/"
    },
    "id": "zTebQ0LOlsGA",
    "outputId": "c871096b-b06e-4cd8-ad56-06758090600d"
   },
   "outputs": [],
   "source": [
    "g = dgl.heterograph({\n",
    "    ('user', 'follows', 'user'): (torch.tensor([0, 1]), torch.tensor([1, 2])),\n",
    "    ('user', 'follows', 'game'): (torch.tensor([0, 1, 2]), torch.tensor([1, 2, 3])),\n",
    "    ('user', 'plays', 'game'): (torch.tensor([1, 3]), torch.tensor([2, 3]))\n",
    "})\n",
    "\n",
    "# Get the number of all nodes in the graph\n",
    "print(\"All nodes: \", g.num_nodes())\n",
    "\n",
    "# Get the number of user nodes\n",
    "print(\"User nodes: \", g.num_nodes('user'))\n",
    "\n",
    "# Nodes of different types have separate IDs,\n",
    "# hence not well-defined without a type specified\n",
    "# print(g.nodes())\n",
    "#DGLError: Node type name must be specified if there are more than one node types.\n",
    "\n",
    "print(g.nodes('user'))"
   ]
  },
  {
   "cell_type": "markdown",
   "metadata": {
    "id": "H9dwJuKvmK0w"
   },
   "source": [
    "To set/get features for a specific node/edge type, DGL provides two new types of syntax – g.nodes[‘node_type’].data[‘feat_name’] and g.edges[‘edge_type’].data[‘feat_name’].\n",
    "\n",
    "**Note:** If the graph only has one node/edge type, there is no need to specify the node/edge type."
   ]
  },
  {
   "cell_type": "code",
   "execution_count": null,
   "metadata": {
    "colab": {
     "base_uri": "https://localhost:8080/"
    },
    "id": "KsxNujb0mSqZ",
    "outputId": "0b7b4106-7385-4489-e49a-399efbef0cb8"
   },
   "outputs": [],
   "source": [
    "g = dgl.heterograph({\n",
    "    ('user', 'follows', 'user'): (torch.tensor([0, 1]), torch.tensor([1, 2])),\n",
    "    ('user', 'follows', 'game'): (torch.tensor([0, 1, 2]), torch.tensor([1, 2, 3])),\n",
    "    ('user', 'plays', 'game'): (torch.tensor([1, 3]), torch.tensor([2, 3]))\n",
    "})\n",
    "\n",
    "g.nodes['user'].data['age'] = torch.tensor([21, 16, 38, 64])\n",
    "# An alternative (yet equivalent) syntax:\n",
    "# g.ndata['age'] = {'user': torch.tensor([21, 16, 38, 64])}\n",
    "\n",
    "print(g.ndata)"
   ]
  },
  {
   "cell_type": "markdown",
   "metadata": {
    "id": "1M_isKWLnCfr"
   },
   "source": [
    "For more info, visit https://docs.dgl.ai/en/0.6.x/. "
   ]
  },
  {
   "cell_type": "markdown",
   "metadata": {
    "id": "Oc__NAd1eG8-"
   },
   "source": [
    "# Create a Temporary ArangoDB Cloud Instance"
   ]
  },
  {
   "cell_type": "code",
   "execution_count": null,
   "metadata": {
    "colab": {
     "base_uri": "https://localhost:8080/"
    },
    "id": "2ekGwnJDeG8-",
    "outputId": "84a1c36b-3dc1-47e2-dadf-8a4ebefd98c0"
   },
   "outputs": [],
   "source": [
    "# Request temporary instance from the managed ArangoDB Cloud Service.\n",
    "con = get_temp_credentials()\n",
    "print(json.dumps(con, indent=2))\n",
    "\n",
    "# Connect to the db via the python-arango driver\n",
    "db = ArangoClient(hosts=con[\"url\"]).db(con[\"dbName\"], con[\"username\"], con[\"password\"], verify=True)"
   ]
  },
  {
   "cell_type": "markdown",
   "metadata": {
    "id": "e4QfL37neG8_"
   },
   "source": [
    "Feel free to use to above URL to checkout the UI!"
   ]
  },
  {
   "cell_type": "markdown",
   "metadata": {
    "id": "7y81WHO8eG8_"
   },
   "source": [
    "# Data Import"
   ]
  },
  {
   "cell_type": "markdown",
   "metadata": {
    "id": "BM0iRYPDeG8_"
   },
   "source": [
    "For demo purposes, we will be using the [ArangoDB IMDB example graph](https://www.arangodb.com/docs/stable/arangosearch-example-datasets.html#imdb-movie-dataset)."
   ]
  },
  {
   "cell_type": "code",
   "execution_count": null,
   "metadata": {
    "colab": {
     "base_uri": "https://localhost:8080/"
    },
    "id": "7bgGJ3QkeG8_",
    "outputId": "1f490370-72f3-4d1b-8950-ef1d0f690218"
   },
   "outputs": [],
   "source": [
    "!chmod -R 755 dgl-adapter/\n",
    "!./dgl-adapter/tests/tools/arangorestore -c none --server.endpoint http+ssl://{con[\"hostname\"]}:{con[\"port\"]} --server.username {con[\"username\"]} --server.database {con[\"dbName\"]} --server.password {con[\"password\"]} --replication-factor 3  --input-directory \"dgl-adapter/tests/data/adb/imdb_dump\" --include-system-collections true"
   ]
  },
  {
   "cell_type": "code",
   "execution_count": null,
   "metadata": {
    "colab": {
     "base_uri": "https://localhost:8080/"
    },
    "id": "XLiXYJPRlVYZ",
    "outputId": "2666c5b3-1f62-4bfc-c9af-53bc53f0ffd8"
   },
   "outputs": [],
   "source": [
    "# Create the IMDB graph\n",
    "db.delete_graph(\"imdb\", ignore_missing=True)\n",
    "db.create_graph(\n",
    "    \"imdb\",\n",
    "    edge_definitions=[\n",
    "        {\n",
    "            \"edge_collection\": \"Ratings\",\n",
    "            \"from_vertex_collections\": [\"Users\"],\n",
    "            \"to_vertex_collections\": [\"Movies\"],\n",
    "        },\n",
    "    ],\n",
    ")"
   ]
  },
  {
   "cell_type": "markdown",
   "metadata": {
    "id": "QfE_tKxneG9A"
   },
   "source": [
    "# Instantiate the Adapter"
   ]
  },
  {
   "cell_type": "markdown",
   "metadata": {
    "id": "kGfhzPT9eG9A"
   },
   "source": [
    "Connect the ArangoDB-DGL Adapter to our temporary ArangoDB cluster:"
   ]
  },
  {
   "cell_type": "code",
   "execution_count": null,
   "metadata": {
    "colab": {
     "base_uri": "https://localhost:8080/"
    },
    "id": "oG496kBeeG9A",
    "outputId": "e5d8657f-a644-4493-ca16-16a300ac4a87"
   },
   "outputs": [],
   "source": [
    "adbdgl_adapter = ADBDGL_Adapter(db)"
   ]
  },
  {
   "cell_type": "markdown",
   "metadata": {
    "id": "bvzJXSHHTi3v"
   },
   "source": [
    "# <u>DGL to ArangoDB</u>"
   ]
  },
  {
   "cell_type": "markdown",
   "metadata": {
    "id": "UafSB_3JZNwK"
   },
   "source": [
    "#### Karate Graph"
   ]
  },
  {
   "cell_type": "markdown",
   "metadata": {
    "id": "tx-tjPfx0U_h"
   },
   "source": [
    "Data\n",
    "* [DGL Karate Graph](https://docs.dgl.ai/en/0.6.x/api/python/dgl.data.html#karate-club-dataset)\n",
    "\n",
    "API\n",
    "* `adbdgl_adapter.adapter.dgl_to_arangodb()`\n",
    "\n",
    "Notes\n",
    "* The `name` parameter in this case is simply for naming your ArangoDB graph."
   ]
  },
  {
   "cell_type": "code",
   "execution_count": null,
   "metadata": {
    "colab": {
     "base_uri": "https://localhost:8080/",
     "height": 577,
     "referenced_widgets": [
      "61d2a0426c324309ab51111933276e3d",
      "77c208846c1e4503bc22a5b5504f89ee",
      "2d1fc41d509e481cb779603827359184",
      "87d9c9de620847f48b4088e8577cd653"
     ]
    },
    "id": "eRVbiBy4ZdE4",
    "outputId": "74ac6cb8-824b-443a-ad6e-9f36b23060a1"
   },
   "outputs": [],
   "source": [
    "# Create the DGL graph & draw it\n",
    "dgl_karate_graph = KarateClubDataset()[0]\n",
    "nx.draw(dgl_karate_graph.to_networkx(), with_labels=True)\n",
    "\n",
    "name = \"Karate\"\n",
    "\n",
    "# Delete the graph if it already exists\n",
    "db.delete_graph(name, drop_collections=True, ignore_missing=True)\n",
    "\n",
    "# Create the ArangoDB graph\n",
    "adb_karate_graph = adbdgl_adapter.dgl_to_arangodb(name, dgl_karate_graph)\n",
    "\n",
    "# You can also provide valid Python-Arango Import Bulk options to the command above, like such:\n",
    "# adb_karate_graph = adbdgl_adapter.dgl_to_arangodb(name, dgl_karate_graph, batch_size=5, on_duplicate=\"replace\")\n",
    "# See the full parameter list at https://docs.python-arango.com/en/main/specs.html#arango.collection.Collection.import_bulk\n",
    "\n",
    "print('\\n--------------------')\n",
    "print(\"URL: \" + con[\"url\"])\n",
    "print(\"Username: \" + con[\"username\"])\n",
    "print(\"Password: \" + con[\"password\"])\n",
    "print(\"Database: \" + con[\"dbName\"])\n",
    "print('--------------------\\n')\n",
    "print(f\"View the created graph here: {con['url']}/_db/{con['dbName']}/_admin/aardvark/index.html#graph/{name}\\n\")\n",
    "print(f\"View the original graph below:\\n\")"
   ]
  },
  {
   "cell_type": "markdown",
   "metadata": {
    "id": "CNj1xKhwoJoL"
   },
   "source": [
    "\n",
    "#### FakeHeterogeneous Graph"
   ]
  },
  {
   "cell_type": "markdown",
   "metadata": {
    "id": "CZ1UX9YX1Zzo"
   },
   "source": [
    "Data\n",
    "* A fake DGL Heterogeneous graph\n",
    "\n",
    "API\n",
    "*  `adbdgl_adapter.adapter.dgl_to_arangodb()`\n",
    "\n",
    "Notes\n",
    "* The `name` parameter is used to name your ArangoDB graph."
   ]
  },
  {
   "cell_type": "code",
   "execution_count": null,
   "metadata": {
    "colab": {
     "base_uri": "https://localhost:8080/",
     "height": 408,
     "referenced_widgets": [
      "3fc8b14d794a46118b328893bd216405",
      "c7e222474ff445fe86e4e599848b2ae2",
      "289a6e16c3d640c29d96edf09908bd0f",
      "61f3832c906445a3ab7e7ba9b41c0127",
      "99bbe81a24db49ff9352987fd97649cd",
      "21e50aa61c3d4de19b5cc0bbe27d53c9",
      "f9fdfe6ce44e4e1c8f513f82efca3e0d",
      "9b2b3abbe2c04af0bc232c9b16bfd90d",
      "8444e147be8f44aba06ec1f8a880104e",
      "80e69b3aa98b44e295efe3940c1146c2",
      "ec7b8b0b853f463fa079dda845891391",
      "dd2376f84c794b4989f385a5bb147bd8"
     ]
    },
    "id": "jbJsvMMaoJoT",
    "outputId": "c1606984-c2ef-41c1-e8b1-78a4ae40d93c"
   },
   "outputs": [],
   "source": [
    "# Create the DGL graph\n",
    "hetero_graph = dgl.heterograph({\n",
    "    (\"user\", \"follows\", \"user\"): (torch.tensor([0, 1]), torch.tensor([1, 2])),\n",
    "    (\"user\", \"follows\", \"topic\"): (torch.tensor([1, 1]), torch.tensor([1, 2])),\n",
    "    (\"user\", \"plays\", \"game\"): (torch.tensor([0, 3]), torch.tensor([3, 4])),\n",
    "})\n",
    "hetero_graph.nodes[\"user\"].data[\"features\"] = torch.tensor([21, 44, 16, 25])\n",
    "hetero_graph.nodes[\"user\"].data[\"label\"] = torch.tensor([1, 2, 0, 1])\n",
    "hetero_graph.nodes[\"game\"].data[\"features\"] = torch.tensor([[0, 0], [0, 1], [1, 0], [1, 1], [1, 1]])\n",
    "hetero_graph.edges[(\"user\", \"plays\", \"game\")].data[\"features\"] = torch.tensor([[6, 1], [1000, 0]])\n",
    "\n",
    "print(hetero_graph)\n",
    "\n",
    "name = \"FakeHetero\"\n",
    "\n",
    "# Delete the graph if it already exists\n",
    "db.delete_graph(name, drop_collections=True, ignore_missing=True)\n",
    "\n",
    "# Create the ArangoDB graphs\n",
    "adb_hetero_graph = adbdgl_adapter.dgl_to_arangodb(name, hetero_graph)\n",
    "\n",
    "print('\\n--------------------')\n",
    "print(\"URL: \" + con[\"url\"])\n",
    "print(\"Username: \" + con[\"username\"])\n",
    "print(\"Password: \" + con[\"password\"])\n",
    "print(\"Database: \" + con[\"dbName\"])\n",
    "print('--------------------\\n')\n",
    "print(f\"View the created graph here: {con['url']}/_db/{con['dbName']}/_admin/aardvark/index.html#graph/{name}\\n\")\n",
    "print(f\"View the original graph below:\\n\")"
   ]
  },
  {
   "cell_type": "markdown",
   "metadata": {
    "id": "n08RC_GtkDrC"
   },
   "source": [
    "\n",
    "#### FakeHeterogeneous Graph with a DGL-ArangoDB metagraph"
   ]
  },
  {
   "cell_type": "markdown",
   "metadata": {
    "id": "rUD_y0yxkDrK"
   },
   "source": [
    "Data\n",
    "* A fake DGL Heterogeneous graph\n",
    "\n",
    "API\n",
    "*  `adbdgl_adapter.adapter.dgl_to_arangodb()`\n",
    "\n",
    "Notes\n",
    "* The `name` parameter is used to name your ArangoDB graph.\n",
    "* The `metagraph` parameter is an optional object mapping the PyG keys of the node & edge data to  strings, list of strings, or user-defined functions."
   ]
  },
  {
   "cell_type": "code",
   "execution_count": null,
   "metadata": {
    "colab": {
     "base_uri": "https://localhost:8080/",
     "height": 408,
     "referenced_widgets": [
      "345a5984959c4e57b7e2715fa8eeef8f",
      "99e6613c4187459396eea503453934cb",
      "968020b1388e4883843575d9198af1cd",
      "f1a08470110e4099af2a3d4cf4d0f956",
      "6744eb60dfa04a8598fca3b998ce3077",
      "09d25097c75c4fa8a2c7376f1965afc5",
      "cb8167f00277413eaaa2ad6e0e162fab",
      "8128e6d80fcb4a8ca0a72097bb8b6521",
      "575205f1a4e64c5d977e69d4939a5605",
      "d20843bfa9064d56b37aaea011789a26",
      "8bf075c6f7834d3fa905b7ddc37cf128",
      "b080f26fe35241fb9cca48e97bc9ef0c"
     ]
    },
    "id": "xAdjZiJ8kDrK",
    "outputId": "2822ed4b-8199-48e2-a753-4b1f60d648a0"
   },
   "outputs": [],
   "source": [
    "# Create the DGL graph\n",
    "hetero_graph = dgl.heterograph({\n",
    "    (\"user\", \"follows\", \"user\"): (torch.tensor([0, 1]), torch.tensor([1, 2])),\n",
    "    (\"user\", \"follows\", \"topic\"): (torch.tensor([1, 1]), torch.tensor([1, 2])),\n",
    "    (\"user\", \"plays\", \"game\"): (torch.tensor([0, 3]), torch.tensor([3, 4])),\n",
    "})\n",
    "hetero_graph.nodes[\"user\"].data[\"features\"] = torch.tensor([21, 44, 16, 25])\n",
    "hetero_graph.nodes[\"user\"].data[\"label\"] = torch.tensor([1, 2, 0, 1])\n",
    "hetero_graph.nodes[\"game\"].data[\"features\"] = torch.tensor([[0, 0], [0, 1], [1, 0], [1, 1], [1, 1]])\n",
    "hetero_graph.edges[(\"user\", \"plays\", \"game\")].data[\"features\"] = torch.tensor([[6, 1], [1000, 0]])\n",
    "\n",
    "print(hetero_graph)\n",
    "\n",
    "name = \"FakeHetero\"\n",
    "\n",
    "# Define the metagraph\n",
    "def label_tensor_to_2_column_dataframe(dgl_tensor, adb_df):\n",
    "    \"\"\"\n",
    "    A user-defined function to create two\n",
    "    ArangoDB attributes out of the 'user' label tensor\n",
    "\n",
    "    :param dgl_tensor: The DGL Tensor containing the data\n",
    "    :type dgl_tensor: torch.Tensor\n",
    "    :param adb_df: The ArangoDB DataFrame to populate, whose\n",
    "        size is preset to the length of **dgl_tensor**.\n",
    "    :type adb_df: pandas.DataFrame\n",
    "\n",
    "    NOTE: user-defined functions must return the modified **adb_df**\n",
    "    \"\"\"\n",
    "    label_map = {0: \"Class A\", 1: \"Class B\", 2: \"Class C\"}\n",
    "\n",
    "    adb_df[\"label_num\"] = dgl_tensor.tolist()\n",
    "    adb_df[\"label_str\"] = adb_df[\"label_num\"].map(label_map)\n",
    "\n",
    "    return adb_df\n",
    "\n",
    "\n",
    "metagraph = {\n",
    "    \"nodeTypes\": {\n",
    "        \"user\": {\n",
    "            \"features\": \"user_age\",  # 1) you can specify a string value for attribute renaming\n",
    "            \"label\": label_tensor_to_2_column_dataframe,  # 2) you can specify a function for user-defined handling, as long as the function returns a Pandas DataFrame\n",
    "        },\n",
    "        # 3) You can specify set of strings if you want to preserve the same DGL attribute names for the node/edge type\n",
    "        \"game\": {\"features\"} # this is equivalent to {\"features\": \"features\"}\n",
    "    },\n",
    "    \"edgeTypes\": {\n",
    "        (\"user\", \"plays\", \"game\"): {\n",
    "            # 4) you can specify a list of strings for tensor dissasembly (if you know the number of node/edge features in advance)\n",
    "            \"features\": [\"hours_played\", \"is_satisfied_with_game\"]\n",
    "        },\n",
    "    },\n",
    "}\n",
    "\n",
    "# Delete the graph if it already exists\n",
    "db.delete_graph(name, drop_collections=True, ignore_missing=True)\n",
    "\n",
    "# Create the ArangoDB graphs\n",
    "adb_hetero_graph = adbdgl_adapter.dgl_to_arangodb(name, hetero_graph, metagraph, explicit_metagraph=False)\n",
    "\n",
    "# Create the ArangoDB graph with `explicit_metagraph=True`\n",
    "# With `explicit_metagraph=True`, the node & edge types omitted from the metagraph will NOT be converted to ArangoDB.\n",
    "# Only 'user', 'game', and ('user', 'plays', 'game') will be brought over (i.e 'topic', ('user', 'follows', 'user'), ... are ignored)\n",
    "## adb_hetero_graph = adbdgl_adapter.dgl_to_arangodb(name, hetero_graph, metagraph, explicit_metagraph=True)\n",
    "\n",
    "print('\\n--------------------')\n",
    "print(\"URL: \" + con[\"url\"])\n",
    "print(\"Username: \" + con[\"username\"])\n",
    "print(\"Password: \" + con[\"password\"])\n",
    "print(\"Database: \" + con[\"dbName\"])\n",
    "print('--------------------\\n')\n",
    "print(f\"View the created graph here: {con['url']}/_db/{con['dbName']}/_admin/aardvark/index.html#graph/{name}\\n\")\n",
    "print(f\"View the original graph below:\\n\")"
   ]
  },
  {
   "cell_type": "markdown",
   "metadata": {
    "id": "mk6m0hBRkkkT"
   },
   "source": [
    "\n",
    "#### FakeHeterogeneous Graph with a user-defined ADBDGL Controller"
   ]
  },
  {
   "cell_type": "markdown",
   "metadata": {
    "id": "KG7kFoOUkkkb"
   },
   "source": [
    "Data\n",
    "* A fake DGL Heterogeneous graph\n",
    "\n",
    "API\n",
    "*  `adbdgl_adapter.adapter.dgl_to_arangodb()`\n",
    "\n",
    "Notes\n",
    "* The `name` parameter is used to name your ArangoDB graph.\n",
    "* The `ADBDGL_Controller` is an optional user-defined class for controlling how nodes & edges are handled when transitioning from PyG to ArangoDB. **It is interpreted as the alternative to the `metagraph` parameter.**"
   ]
  },
  {
   "cell_type": "code",
   "execution_count": null,
   "metadata": {
    "colab": {
     "base_uri": "https://localhost:8080/",
     "height": 443,
     "referenced_widgets": [
      "ea5e9803c5de4d2bbb48782069b9829b",
      "3f633be94c7d466ea40571e805a76948",
      "96e57d98afce44cd8269204dd19ff6e0",
      "da43ef4a8c6a41f9bda153a0cd14c2d7",
      "3bc228aa98454dc59a604c8f7ff6b2a0",
      "65138d18c9c449d1aaaad387293c5ede",
      "3ea99b2a6b4246d3abf628ca743f9f24",
      "841ce4f5d391457e858c3c48185e259d",
      "987bf80aee4b4b97bfad1699f8384af8",
      "4ab3c113235746cab5fde158756ab420",
      "09e8c93741bf45acb69ba9e757107564",
      "d7d06973b2984eb19fa050409bf62222"
     ]
    },
    "id": "A-DtrD2Ykkkb",
    "outputId": "f2672554-16e4-4b88-e24b-f567ff13bb3f"
   },
   "outputs": [],
   "source": [
    "# Create the DGL graph\n",
    "hetero_graph = dgl.heterograph({\n",
    "    (\"user\", \"follows\", \"user\"): (torch.tensor([0, 1]), torch.tensor([1, 2])),\n",
    "    (\"user\", \"follows\", \"topic\"): (torch.tensor([1, 1]), torch.tensor([1, 2])),\n",
    "    (\"user\", \"plays\", \"game\"): (torch.tensor([0, 3]), torch.tensor([3, 4])),\n",
    "})\n",
    "hetero_graph.nodes[\"user\"].data[\"features\"] = torch.tensor([21, 44, 16, 25])\n",
    "hetero_graph.nodes[\"user\"].data[\"label\"] = torch.tensor([1, 2, 0, 1])\n",
    "hetero_graph.nodes[\"game\"].data[\"features\"] = torch.tensor([[0, 0], [0, 1], [1, 0], [1, 1], [1, 1]])\n",
    "hetero_graph.edges[(\"user\", \"plays\", \"game\")].data[\"features\"] = torch.tensor([[6, 1], [1000, 0]])\n",
    "\n",
    "print(hetero_graph)\n",
    "\n",
    "name = \"FakeHetero\"\n",
    "\n",
    "# Create a custom ADBDGL_Controller\n",
    "class Custom_ADBDGL_Controller(ADBDGL_Controller):\n",
    "    def _prepare_dgl_node(self, dgl_node: dict, node_type: str) -> dict:\n",
    "        \"\"\"Optionally modify a DGL node object before it gets inserted into its designated ArangoDB collection.\n",
    "\n",
    "        :param dgl_node: The DGL node object to (optionally) modify.\n",
    "        :param node_type: The DGL Node Type of the node.\n",
    "        :return: The DGL Node object\n",
    "        \"\"\"\n",
    "        dgl_node[\"foo\"] = \"bar\"\n",
    "        return dgl_node\n",
    "\n",
    "    def _prepare_dgl_edge(self, dgl_edge: dict, edge_type: tuple) -> dict:\n",
    "        \"\"\"Optionally modify a DGL edge object before it gets inserted into its designated ArangoDB collection.\n",
    "\n",
    "        :param dgl_edge: The DGL edge object to (optionally) modify.\n",
    "        :param edge_type: The Edge Type of the DGL edge. Formatted\n",
    "            as (from_collection, edge_collection, to_collection)\n",
    "        :return: The DGL Edge object\n",
    "        \"\"\"\n",
    "        dgl_edge[\"bar\"] = \"foo\"\n",
    "        return dgl_edge\n",
    "\n",
    "# Delete the graph if it already exists\n",
    "db.delete_graph(name, drop_collections=True, ignore_missing=True)\n",
    "\n",
    "# Create the ArangoDB graphs\n",
    "adb_g = ADBDGL_Adapter(db, Custom_ADBDGL_Controller()).dgl_to_arangodb(name, hetero_graph)\n",
    "\n",
    "print('\\n--------------------')\n",
    "print(\"URL: \" + con[\"url\"])\n",
    "print(\"Username: \" + con[\"username\"])\n",
    "print(\"Password: \" + con[\"password\"])\n",
    "print(\"Database: \" + con[\"dbName\"])\n",
    "print('--------------------\\n')\n",
    "print(f\"View the created graph here: {con['url']}/_db/{con['dbName']}/_admin/aardvark/index.html#graph/{name}\\n\")\n",
    "print(f\"View the original graph below:\\n\")"
   ]
  },
  {
   "cell_type": "markdown",
   "metadata": {
    "id": "uByvwf9feG9A"
   },
   "source": [
    "# <u>ArangoDB to DGL</u>\n",
    "\n"
   ]
  },
  {
   "cell_type": "code",
   "execution_count": null,
   "metadata": {
    "colab": {
     "base_uri": "https://localhost:8080/",
     "height": 165,
     "referenced_widgets": [
      "c6cffa0a64434e56879ba2a8c9de018a",
      "0083494093574c50952dd066502a708d",
      "1dea128bde204a8fa53e094e014183fe",
      "50f8ff3637ee4fc7af8c811cd5d177be",
      "6582a9d3fe044d5380d8e918f3bc5a6d",
      "40da9dd52dd6443684b990f74b6cb876",
      "80d19dc0d20842c3b5c7313c0ad23d24",
      "0478c90ef8234f3a8987dbe9cd3030b2",
      "c61e3997250d4f93a8e0494db674892d",
      "97e7543f202749c197515a9c5c79adbe",
      "88e83ddc1ca1464291e1631b8fced847",
      "a9c14a3f339445338119631c8e56ff68"
     ]
    },
    "id": "rnMe3iMz2K7j",
    "outputId": "b1485ec1-64bf-43d5-a5fe-7d6bd5fc2da1"
   },
   "outputs": [],
   "source": [
    "# Start from scratch! (with the same DGL graph)\n",
    "hetero_graph = dgl.heterograph({\n",
    "    (\"user\", \"follows\", \"user\"): (torch.tensor([0, 1]), torch.tensor([1, 2])),\n",
    "    (\"user\", \"follows\", \"topic\"): (torch.tensor([1, 1]), torch.tensor([1, 2])),\n",
    "    (\"user\", \"plays\", \"game\"): (torch.tensor([0, 3]), torch.tensor([3, 4])),\n",
    "})\n",
    "hetero_graph.nodes[\"user\"].data[\"features\"] = torch.tensor([21, 44, 16, 25])\n",
    "hetero_graph.nodes[\"user\"].data[\"label\"] = torch.tensor([1, 2, 0, 1])\n",
    "hetero_graph.nodes[\"game\"].data[\"features\"] = torch.tensor([[0, 0], [0, 1], [1, 0], [1, 1], [1, 1]])\n",
    "hetero_graph.edges[(\"user\", \"plays\", \"game\")].data[\"features\"] = torch.tensor([[6, 1], [1000, 0]])\n",
    "\n",
    "db.delete_graph(\"FakeHetero\", drop_collections=True, ignore_missing=True)\n",
    "adbdgl_adapter.dgl_to_arangodb(\"FakeHetero\", hetero_graph)"
   ]
  },
  {
   "cell_type": "markdown",
   "metadata": {
    "id": "ZrEDmtqCVD0W"
   },
   "source": [
    "#### Via ArangoDB Graph"
   ]
  },
  {
   "cell_type": "markdown",
   "metadata": {
    "id": "H8nlvWCryPW0"
   },
   "source": [
    "Data\n",
    "* A fake DGL Heterogeneous graph\n",
    "\n",
    "API\n",
    "* `adbdgl_adapter.adapter.arangodb_graph_to_dgl()`\n",
    "\n",
    "Notes\n",
    "* The `name` parameter in this case must point to an existing ArangoDB graph in your ArangoDB instance. \n",
    "* Due to risk of ambiguity, this method does **not** carry over ArangoDB attributes to DGL."
   ]
  },
  {
   "cell_type": "code",
   "execution_count": null,
   "metadata": {
    "colab": {
     "base_uri": "https://localhost:8080/",
     "height": 184,
     "referenced_widgets": [
      "9403e71c2bbe46bd9e6d49d555264554",
      "34c4ef0c4aa5454893c0f0fa35902fbd",
      "1690574b32cc4b48a8b87520458d5066",
      "a9edf4f85a4a4504b155608bb740178a",
      "fd2db543279f4a13ab6376b9c23160e0",
      "5c310145af4f4c90b659dee771185ab6",
      "31a9f782f36d407f8cc42b19679c5c2c",
      "9fd8d07a43cd4c06a2d448047ede846c",
      "2c2900512b5244d3a0fcaf7409446d0e",
      "c5d064af7f4a49dca6716f98d052e951"
     ]
    },
    "id": "zZ-Hu3lLVHgd",
    "outputId": "85729665-feb3-4382-e84b-4286162581c3"
   },
   "outputs": [],
   "source": [
    "# Define graph name\n",
    "name = \"FakeHetero\"\n",
    "\n",
    "# Create the DGL Graph from the ArangoDB graph\n",
    "dgl_g = adbdgl_adapter.arangodb_graph_to_dgl(name)\n",
    "\n",
    "# You can also provide valid Python-Arango AQL query options to the command above, like such:\n",
    "# dgl_g = adbdgl_adapter.arangodb_graph_to_dgl(graph_name, ttl=1000, stream=True)\n",
    "# See the full parameter list at https://docs.python-arango.com/en/main/specs.html#arango.aql.AQL.execute\n",
    "\n",
    "# Show graph data\n",
    "print('\\n--------------------')\n",
    "print(dgl_g)\n",
    "print(dgl_g.ndata) # note how this is empty\n",
    "print(dgl_g.edata) # note how this is empty"
   ]
  },
  {
   "cell_type": "markdown",
   "metadata": {
    "id": "RQ4CknYfUEuz"
   },
   "source": [
    "#### Via ArangoDB Collections"
   ]
  },
  {
   "cell_type": "markdown",
   "metadata": {
    "id": "bRcCmqWGy1Kf"
   },
   "source": [
    "Data\n",
    "* A fake DGL Heterogeneous graph\n",
    "\n",
    "API\n",
    "* `adbdgl_adapter.adapter.arangodb_collections_to_dgl()`\n",
    "\n",
    "Notes\n",
    "* The `name` parameter is purely for documentation purposes in this case.\n",
    "* The `vertex_collections` & `edge_collections` parameters must point to existing ArangoDB collections within your ArangoDB instance.\n",
    "* Due to risk of ambiguity, this method does **not** carry over ArangoDB attributes to DGL."
   ]
  },
  {
   "cell_type": "code",
   "execution_count": null,
   "metadata": {
    "colab": {
     "base_uri": "https://localhost:8080/",
     "height": 253,
     "referenced_widgets": [
      "f01997b9b43d43368d632e26ba9732ad",
      "14b29dc1f2b8454fa9acc1d79dcd4870",
      "5f5c119141a24cab907ceb2da27e0244",
      "46b88027e41a43578ebcc47513dd6911",
      "7a43c4b816da4a40b0eed167a85eef22",
      "eb376d5cf782424aaccbce31f0d3ede5",
      "7a4db2b18c634bef932fb9b1157d4af1",
      "b5be8c1e4ab3415c9fffbb61aeb0fff3",
      "4e085418ce1b41e1bc24ad6acea92fc4",
      "7b5dba3f4d50466eb2071cb13548ef1b"
     ]
    },
    "id": "i4XOpdRLUNlJ",
    "outputId": "c0fa5973-3e46-4227-8b0c-48b4f14736e5"
   },
   "outputs": [],
   "source": [
    "name = \"FakeHetero\"\n",
    "\n",
    "dgl_g = adbdgl_adapter.arangodb_collections_to_dgl(\n",
    "    name, \n",
    "    v_cols={\"user\", \"game\"},\n",
    "    e_cols={\"plays\", \"follows\"}\n",
    ")\n",
    "\n",
    "# Show graph data (notice that the \"topic\" data is skipped)\n",
    "print('\\n--------------------')\n",
    "print(dgl_g)\n",
    "print(dgl_g.ndata) # note how this is empty\n",
    "print(dgl_g.edata) # note how this is empty"
   ]
  },
  {
   "cell_type": "markdown",
   "metadata": {
    "id": "qEH6OdSB23Ya"
   },
   "source": [
    "#### Via ArangoDB-DGL metagraph 1"
   ]
  },
  {
   "cell_type": "markdown",
   "metadata": {
    "id": "PipFzJ0HzTMA"
   },
   "source": [
    "Data\n",
    "* A fake DGL Heterogeneous graph\n",
    "\n",
    "API\n",
    "* `adbdgl_adapter.adapter.arangodb_to_dgl()`\n",
    "\n",
    "Notes\n",
    "* The `name` parameter is purely for documentation purposes in this case.\n",
    "* The `metagraph` parameter is an object defining vertex & edge collections to import to DGL, along with collection-level specifications to indicate which ArangoDB attributes will become DGL features/labels. It should contain collections & associated document attributes names that exist within your ArangoDB instance."
   ]
  },
  {
   "cell_type": "code",
   "execution_count": null,
   "metadata": {
    "colab": {
     "base_uri": "https://localhost:8080/",
     "height": 409,
     "referenced_widgets": [
      "77b31c42e914410aaea93044f1390121",
      "8349f1e6b1f34680bacd7de1a1937122",
      "38aaa492d75c48f38de60ea0cc5fa93f",
      "63845b04ecbc40de8bcc017d754ac907",
      "4b7f5f21b98b4c5d8475929bf1f01a65",
      "404a19cadaca4b85a957cad231b73cbb",
      "bd8b6caa7d2d4df1a99b1870ecc0ae46",
      "13d0f7da120b40b993ce3c0b257d5788",
      "ea88ab86e9774ed78ea62daa6e338637",
      "712770e675424d7eb0c8efd6c34f2012"
     ]
    },
    "id": "7Kz8lXXq23Yk",
    "outputId": "b17433d7-d344-4748-ffe3-f0abca6fb112"
   },
   "outputs": [],
   "source": [
    "# Define the Metagraph that transfers ArangoDB attributes \"as is\",\n",
    "# meaning the data is already formatted to DGL data standards\n",
    "metagraph_v1 = {\n",
    "    \"vertexCollections\": {\n",
    "        # Move the \"features\" & \"label\" ArangoDB attributes to DGL as \"features\" & \"label\" Tensors\n",
    "        \"user\": {\"features\", \"label\"}, # equivalent to {\"features\": \"features\", \"label\": \"label\"}\n",
    "        \"game\": {\"dgl_game_features\": \"features\"},\n",
    "        \"topic\": {},\n",
    "    },\n",
    "    \"edgeCollections\": {\n",
    "        \"plays\": {\"dgl_plays_features\": \"features\"}, \n",
    "        \"follows\": {}\n",
    "    },\n",
    "}\n",
    "\n",
    "# Create the DGL graph\n",
    "dgl_g = adbdgl_adapter.arangodb_to_dgl(\"FakeHetero\", metagraph_v1)\n",
    "\n",
    "# Show graph data\n",
    "print('\\n--------------')\n",
    "print(dgl_g)\n",
    "print('\\n--------------')\n",
    "print(dgl_g.ndata)\n",
    "print('--------------\\n')\n",
    "print(dgl_g.edata)"
   ]
  },
  {
   "cell_type": "markdown",
   "metadata": {
    "id": "0806IB4o3WRz"
   },
   "source": [
    "#### Via ArangoDB-DGL metagraph 2"
   ]
  },
  {
   "cell_type": "markdown",
   "metadata": {
    "id": "cnByWtpa3WR7"
   },
   "source": [
    "Data\n",
    "* [ArangoDB IMDB Movie Dataset](https://www.arangodb.com/docs/stable/arangosearch-example-datasets.html#imdb-movie-dataset)\n",
    "\n",
    "API\n",
    "* `adbddgl_adapter.adapter.arangodb_to_dgl()`\n",
    "\n",
    "Notes\n",
    "* The `name` parameter is purely for documentation purposes in this case.\n",
    "* The `metagraph` parameter is an object defining vertex & edge collections to import to DGL, along with collection-level specifications to indicate which ArangoDB attributes will become PyG features/labels. In this example, we rely on user-defined encoders to build PyG-ready tensors (i.e feature matrices) from ArangoDB attributes. See https://pytorch-geometric.readthedocs.io/en/latest/notes/load_csv.html for an example on using encoders."
   ]
  },
  {
   "cell_type": "code",
   "execution_count": null,
   "metadata": {
    "colab": {
     "base_uri": "https://localhost:8080/",
     "height": 499,
     "referenced_widgets": [
      "2b13e46a722e4be384fad74e1b3e6461",
      "848230df62434c77b5b18f9a43e2d14f",
      "59405e2d0c164d5b965680cc9d9cd8f3",
      "2a380fe111794c3a951cdafa4a2bf0b3",
      "3d081c88cd2945fa9534de722669ada9",
      "82f996185e8444ada5e18602e2f8e105"
     ]
    },
    "id": "cKqLoawE3WR7",
    "outputId": "02a8bfed-44ae-4c76-9eea-ba7348738707"
   },
   "outputs": [],
   "source": [
    "# Define the Metagraph that transfers attributes via user-defined encoders\n",
    "metagraph_v2 = {\n",
    "    \"vertexCollections\": {\n",
    "        \"Movies\": {\n",
    "            \"features\": {  # Build a feature matrix from the \"Action\" & \"Drama\" document attributes\n",
    "                \"Action\": IdentityEncoder(dtype=torch.long),\n",
    "                \"Drama\": IdentityEncoder(dtype=torch.long),\n",
    "            },\n",
    "            \"label\": \"Comedy\",\n",
    "        },\n",
    "        \"Users\": {\n",
    "            \"features\": {\n",
    "                \"Gender\": CategoricalEncoder(), # CategoricalEncoder(mapping={\"M\": 0, \"F\": 1}),\n",
    "                \"Age\": IdentityEncoder(dtype=torch.long),\n",
    "            }\n",
    "        },\n",
    "    },\n",
    "    \"edgeCollections\": {\"Ratings\": {\"weight\": \"Rating\"}},\n",
    "}\n",
    "\n",
    "# Create the DGL Graph\n",
    "dgl_g = adbdgl_adapter.arangodb_to_dgl(\"IMDB\", metagraph_v2)\n",
    "\n",
    "# Show graph data\n",
    "print('\\n--------------')\n",
    "print(dgl_g)\n",
    "print('\\n--------------')\n",
    "print(dgl_g.ndata)\n",
    "print('--------------\\n')\n",
    "print(dgl_g.edata)"
   ]
  },
  {
   "cell_type": "markdown",
   "metadata": {
    "id": "d5ijSCcY4bYs"
   },
   "source": [
    "#### Via ArangoDB-DGL metagraph 3"
   ]
  },
  {
   "cell_type": "markdown",
   "metadata": {
    "id": "P1aKzxxZrUXJ"
   },
   "source": [
    "Data\n",
    "* A fake DGL Heterogeneous graph\n",
    "\n",
    "API\n",
    "* `adbdgl_adapter.adapter.arangodb_to_dgl()`\n",
    "\n",
    "Notes\n",
    "* The `name` parameter is purely for documentation purposes in this case.\n",
    "* The `metagraph` parameter is an object defining vertex & edge collections to import to DGL, along with collection-level specifications to indicate which ArangoDB attributes will become DGL features/labels. In this example, we rely on user-defined functions to handle ArangoDB attribute to DGL feature conversion."
   ]
  },
  {
   "cell_type": "code",
   "execution_count": null,
   "metadata": {
    "colab": {
     "base_uri": "https://localhost:8080/",
     "height": 377,
     "referenced_widgets": [
      "e4b7b35461e848f5819b9f38d67ee652",
      "9968f928e28147f7a0956aff8412a608",
      "54801c3c74494fe8bf9e2a7fb64bde48",
      "903622e283524c7f89635599920c2b14",
      "f0d4515c88a44775be59c4e1a0b3c60a",
      "9e1eb071f0b24cb6a8d206477b10b831"
     ]
    },
    "id": "t-lNli3d4bY0",
    "outputId": "7bc48392-81a7-4232-aad2-931ff3c8ca48"
   },
   "outputs": [],
   "source": [
    "# Define the metagraph that transfers attributes via user-defined functions\n",
    "def udf_user_features(user_df):\n",
    "    # process the user_df Pandas DataFrame to return a feature matrix in a tensor\n",
    "    # user_df[\"features\"] = ...\n",
    "    return torch.tensor(user_df[\"features\"].to_list())\n",
    "\n",
    "\n",
    "def udf_game_features(game_df):\n",
    "    # process the game_df Pandas DataFrame to return a feature matrix in a tensor\n",
    "    # game_df[\"features\"] = ...\n",
    "    return torch.tensor(game_df[\"features\"].to_list())\n",
    "\n",
    "\n",
    "metagraph_v3 = {\n",
    "    \"vertexCollections\": {\n",
    "        \"user\": {\n",
    "            \"features\": udf_user_features,  # supports named functions\n",
    "            \"label\": lambda df: torch.tensor(df[\"label\"].to_list()),  # also supports lambda functions\n",
    "        },\n",
    "        \"game\": {\"features\": udf_game_features},\n",
    "    },\n",
    "    \"edgeCollections\": {\n",
    "        \"plays\": {\"features\": (lambda df: torch.tensor(df[\"features\"].to_list()))},\n",
    "    },\n",
    "}\n",
    "\n",
    "# Create the DGL Graph\n",
    "dgl_g = adbdgl_adapter.arangodb_to_dgl(\"FakeHetero\", metagraph_v3)\n",
    "\n",
    "# Show graph data\n",
    "print('\\n--------------')\n",
    "print(dgl_g)\n",
    "print('\\n--------------')\n",
    "print(dgl_g.ndata)\n",
    "print('--------------\\n')\n",
    "print(dgl_g.edata)"
   ]
  }
 ],
 "metadata": {
  "colab": {
   "collapsed_sections": [
    "ot1oJqn7m78n",
    "Oc__NAd1eG8-",
    "7y81WHO8eG8_",
    "QfE_tKxneG9A",
    "bvzJXSHHTi3v",
    "UafSB_3JZNwK",
    "CNj1xKhwoJoL",
    "n08RC_GtkDrC",
    "mk6m0hBRkkkT",
    "uByvwf9feG9A",
    "ZrEDmtqCVD0W",
    "RQ4CknYfUEuz",
    "qEH6OdSB23Ya",
    "0806IB4o3WRz",
    "d5ijSCcY4bYs"
   ],
   "name": "ArangoDB_DGL_Adapter_v3.ipynb",
   "provenance": []
  },
  "kernelspec": {
   "display_name": "Python 3",
   "language": "python",
   "name": "python3"
  },
  "language_info": {
   "codemirror_mode": {
    "name": "ipython",
    "version": 3
   },
   "file_extension": ".py",
   "mimetype": "text/x-python",
   "name": "python",
   "nbconvert_exporter": "python",
   "pygments_lexer": "ipython3",
   "version": "3.7.6"
  }
 },
 "nbformat": 4,
 "nbformat_minor": 0
}
