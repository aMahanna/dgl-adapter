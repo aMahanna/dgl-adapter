{
 "cells": [
  {
   "cell_type": "markdown",
   "metadata": {
    "id": "q8KesL7xeG89"
   },
   "source": [
    "# ArangoDB DGL Adapter Getting Started Guide  "
   ]
  },
  {
   "cell_type": "markdown",
   "metadata": {
    "id": "U1d45V4OeG89"
   },
   "source": [
    "<a href=\"https://colab.research.google.com/github/arangoml/dgl-adapter/blob/master/examples/ArangoDB_DGL_Adapter.ipynb\" target=\"_parent\"><img src=\"https://colab.research.google.com/assets/colab-badge.svg\" alt=\"Open In Colab\"/></a>"
   ]
  },
  {
   "cell_type": "markdown",
   "metadata": {
    "id": "Nx9aa3LAeG89"
   },
   "source": [
    "![arangodb](https://raw.githubusercontent.com/arangoml/dgl-adapter/master/examples/assets/adb_logo.png)\n",
    "<img src=\"https://raw.githubusercontent.com/arangoml/dgl-adapter/master/examples/assets/dgl_logo.png\" width=40% />"
   ]
  },
  {
   "cell_type": "markdown",
   "metadata": {
    "id": "bpvZS-1aeG89"
   },
   "source": [
    "Version: 1.0.0\n",
    "\n",
    "Objective: Export Graphs from [ArangoDB](https://www.arangodb.com/), a multi-model Graph Database, into [Deep Graph Library](https://www.dgl.ai/) (DGL), a python package for graph neural networks, and vice-versa."
   ]
  },
  {
   "cell_type": "markdown",
   "metadata": {
    "id": "KS9c-vE5eG89"
   },
   "source": [
    "# Setup"
   ]
  },
  {
   "cell_type": "code",
   "execution_count": null,
   "metadata": {
    "id": "fUnFAFAheG89"
   },
   "outputs": [],
   "source": [
    "%%capture\n",
    "!git clone -b oasis_connector --single-branch https://github.com/arangodb/interactive_tutorials.git\n",
    "!git clone https://github.com/arangoml/dgl-adapter.git # !git clone -b 1.0.0 --single-branch https://github.com/arangoml/dgl-adapter.git\n",
    "!rsync -av dgl-adapter/adbdgl_adapter/tests ./ --exclude=.git\n",
    "!rsync -av interactive_tutorials/ ./ --exclude=.git\n",
    "!pip3 install \"git+https://github.com/arangoml/dgl-adapter.git#egg=adbdgl_adapter&subdirectory=adbdgl_adapter\" # pip3 install adbdgl_adapter==1.0.0\n",
    "!pip3 install matplotlib\n",
    "!pip3 install pyArango\n",
    "!pip3 install networkx ## For drawing purposes "
   ]
  },
  {
   "cell_type": "code",
   "execution_count": null,
   "metadata": {
    "colab": {
     "base_uri": "https://localhost:8080/"
    },
    "id": "RpqvL4COeG8-",
    "outputId": "f663eeb2-9d01-4a97-8309-99b83498d089"
   },
   "outputs": [],
   "source": [
    "import json\n",
    "import oasis\n",
    "import matplotlib.pyplot as plt\n",
    "\n",
    "import torch\n",
    "import networkx as nx\n",
    "from dgl import remove_self_loop\n",
    "from dgl.data import KarateClubDataset\n",
    "from dgl.data import MiniGCDataset\n",
    "\n",
    "from adbdgl_adapter.adbdgl_adapter import ArangoDB_DGL_Adapter\n",
    "from adbdgl_adapter.adbdgl_controller import Base_ADBDGL_Controller"
   ]
  },
  {
   "cell_type": "markdown",
   "metadata": {
    "id": "Oc__NAd1eG8-"
   },
   "source": [
    "# Create a Temporary ArangoDB Instance"
   ]
  },
  {
   "cell_type": "code",
   "execution_count": null,
   "metadata": {
    "colab": {
     "base_uri": "https://localhost:8080/"
    },
    "id": "2ekGwnJDeG8-",
    "outputId": "5b7fa3ce-10f8-4f43-c39a-56c42c19df6e"
   },
   "outputs": [],
   "source": [
    "# Request temporary instance from the managed ArangoDB Cloud Oasis.\n",
    "con = oasis.getTempCredentials()\n",
    "\n",
    "# Connect to the db via the python-arango driver\n",
    "python_arango_db_driver = oasis.connect_python_arango(con)\n",
    "\n",
    "# (Alternative) Connect to the db via the pyArango driver\n",
    "# pyarango_db_driver = oasis.connect(con)[con['dbName']]\n",
    "\n",
    "print()\n",
    "print(\"https://{}:{}\".format(con[\"hostname\"], con[\"port\"]))\n",
    "print(\"Username: \" + con[\"username\"])\n",
    "print(\"Password: \" + con[\"password\"])\n",
    "print(\"Database: \" + con[\"dbName\"])"
   ]
  },
  {
   "cell_type": "markdown",
   "metadata": {
    "id": "e4QfL37neG8_"
   },
   "source": [
    "Feel free to use to above URL to checkout the UI!"
   ]
  },
  {
   "cell_type": "markdown",
   "metadata": {
    "id": "7y81WHO8eG8_"
   },
   "source": [
    "# Data Import"
   ]
  },
  {
   "cell_type": "markdown",
   "metadata": {
    "id": "BM0iRYPDeG8_"
   },
   "source": [
    "We will use an Fraud Detection example graph, explained in more detail in this [interactive notebook](https://colab.research.google.com/github/joerg84/Graph_Powered_ML_Workshop/blob/master/Fraud_Detection.ipynb)."
   ]
  },
  {
   "cell_type": "markdown",
   "metadata": {
    "id": "1jWclaDdeG8_"
   },
   "source": [
    "*Note the included arangorestore will only work on Linux system, if you want to run this notebook on a different OS please consider using the appropriate arangorestore from the [Download area](https://www.arangodb.com/download-major/).*"
   ]
  },
  {
   "cell_type": "code",
   "execution_count": null,
   "metadata": {
    "colab": {
     "base_uri": "https://localhost:8080/"
    },
    "id": "7bgGJ3QkeG8_",
    "outputId": "0a73f80e-3ae7-40fb-ef49-8fcdb26c3c65"
   },
   "outputs": [],
   "source": [
    "!chmod -R 755 ./tools\n",
    "!./tools/arangorestore -c none --server.endpoint http+ssl://{con[\"hostname\"]}:{con[\"port\"]} --server.username {con[\"username\"]} --server.database {con[\"dbName\"]} --server.password {con[\"password\"]} --default-replication-factor 3  --input-directory \"tests/data/fraud_dump\""
   ]
  },
  {
   "cell_type": "markdown",
   "metadata": {
    "id": "227hLXnPeG8_"
   },
   "source": [
    "# Create Graph"
   ]
  },
  {
   "cell_type": "markdown",
   "metadata": {
    "id": "howeguvmeG8_"
   },
   "source": [
    "The graph we will be using in the following looks as follows:"
   ]
  },
  {
   "cell_type": "markdown",
   "metadata": {
    "id": "WqRlqnJCeG8_"
   },
   "source": [
    "![networkX](https://github.com/arangoml/networkx-adapter/blob/master/examples/assets/fraud_graph.jpeg?raw=1) "
   ]
  },
  {
   "cell_type": "code",
   "execution_count": null,
   "metadata": {
    "colab": {
     "base_uri": "https://localhost:8080/"
    },
    "id": "PybHP7jpeG8_",
    "outputId": "631ddedd-a50e-49ee-fc05-7632733d95cb"
   },
   "outputs": [],
   "source": [
    "edge_definitions = [\n",
    "    {\n",
    "        \"edge_collection\": \"accountHolder\",\n",
    "        \"from_vertex_collections\": [\"customer\"],\n",
    "        \"to_vertex_collections\": [\"account\"],\n",
    "    },\n",
    "    {\n",
    "        \"edge_collection\": \"transaction\",\n",
    "        \"from_vertex_collections\": [\"account\"],\n",
    "        \"to_vertex_collections\": [\"account\"],\n",
    "    },\n",
    "]\n",
    "\n",
    "name = \"fraud-detection\"\n",
    "python_arango_db_driver.delete_graph(name, ignore_missing=True)\n",
    "fraud_graph = python_arango_db_driver.create_graph(name, edge_definitions=edge_definitions)\n",
    "\n",
    "print(\"Graph Setup done.\")\n",
    "print(fraud_graph)"
   ]
  },
  {
   "cell_type": "markdown",
   "metadata": {
    "id": "ANrsn9GreG9A"
   },
   "source": [
    "Feel free to visit the ArangoDB UI using the above link and login data and check the Graph!"
   ]
  },
  {
   "cell_type": "markdown",
   "metadata": {
    "id": "QfE_tKxneG9A"
   },
   "source": [
    "# Create Adapter"
   ]
  },
  {
   "cell_type": "markdown",
   "metadata": {
    "id": "kGfhzPT9eG9A"
   },
   "source": [
    "Connect the ArangoDB_DGL_Adapter to our temp ArangoDB cluster:"
   ]
  },
  {
   "cell_type": "code",
   "execution_count": null,
   "metadata": {
    "colab": {
     "base_uri": "https://localhost:8080/"
    },
    "id": "oG496kBeeG9A",
    "outputId": "674e2585-44d2-42fb-af93-aaca047d4912"
   },
   "outputs": [],
   "source": [
    "adbdgl_adapter = ArangoDB_DGL_Adapter(con)"
   ]
  },
  {
   "cell_type": "markdown",
   "metadata": {
    "id": "uByvwf9feG9A"
   },
   "source": [
    "# ArangoDB to DGL\n",
    "\n"
   ]
  },
  {
   "cell_type": "markdown",
   "metadata": {
    "id": "ZrEDmtqCVD0W"
   },
   "source": [
    "## Via ArangoDB Graph"
   ]
  },
  {
   "cell_type": "code",
   "execution_count": null,
   "metadata": {
    "colab": {
     "base_uri": "https://localhost:8080/"
    },
    "id": "zZ-Hu3lLVHgd",
    "outputId": "0089108a-4af9-42f2-ec78-e899dc3070d0"
   },
   "outputs": [],
   "source": [
    "# Define graph name\n",
    "graph_name = \"fraud-detection\"\n",
    "\n",
    "# Create DGL graph from ArangoDB graph\n",
    "dgl_g = adbdgl_adapter.arangodb_graph_to_dgl(graph_name)\n",
    "\n",
    "# You can also provide valid Python-Arango AQL query options to the command above, like such:\n",
    "# dgl_g = aadbdgl_adapter.arangodb_graph_to_dgl(graph_name, ttl=1000, stream=True)\n",
    "# See more here: https://docs.python-arango.com/en/main/specs.html#arango.aql.AQL.execute\n",
    "\n",
    "# Show graph data\n",
    "print(dgl_g)\n",
    "print(dgl_g.ndata)\n",
    "print(dgl_g.edata)"
   ]
  },
  {
   "cell_type": "markdown",
   "metadata": {
    "id": "RQ4CknYfUEuz"
   },
   "source": [
    "## Via ArangoDB Collections"
   ]
  },
  {
   "cell_type": "code",
   "execution_count": null,
   "metadata": {
    "colab": {
     "base_uri": "https://localhost:8080/"
    },
    "id": "i4XOpdRLUNlJ",
    "outputId": "c9167f96-bdc7-4f62-eeb8-2f95c695386e"
   },
   "outputs": [],
   "source": [
    "# Define collection\n",
    "vertex_collections = {\"account\", \"Class\", \"customer\"}\n",
    "edge_collections = {\"accountHolder\", \"Relationship\", \"transaction\"}\n",
    "\n",
    "# Create DGL from ArangoDB collections\n",
    "dgl_g = adbdgl_adapter.arangodb_collections_to_dgl(\"fraud-detection\", vertex_collections, edge_collections)\n",
    "\n",
    "# You can also provide valid Python-Arango AQL query options to the command above, like such:\n",
    "# dgl_g = adbdgl_adapter.arangodb_collections_to_dgl(\"fraud-detection\", vertex_collections, edge_collections, ttl=1000, stream=True)\n",
    "# See more here: https://docs.python-arango.com/en/main/specs.html#arango.aql.AQL.execute\n",
    "\n",
    "# Show graph data\n",
    "print(dgl_g)\n",
    "print(dgl_g.ndata)\n",
    "print(dgl_g.edata)"
   ]
  },
  {
   "cell_type": "markdown",
   "metadata": {
    "id": "umy25EsUU6Lg"
   },
   "source": [
    "## Via ArangoDB Metagraph"
   ]
  },
  {
   "cell_type": "code",
   "execution_count": null,
   "metadata": {
    "colab": {
     "base_uri": "https://localhost:8080/"
    },
    "id": "UWX9-MsKeG9A",
    "outputId": "bac117a0-fa47-40a7-ddd5-b3bf52384f72"
   },
   "outputs": [],
   "source": [
    "# Define Metagraph\n",
    "fraud_detection_metagraph = {\n",
    "    \"vertexCollections\": {\n",
    "        \"account\": {\"rank\"},\n",
    "        \"Class\": {\"concrete\", \"name\"},\n",
    "        \"customer\": {\"Sex\", \"Ssn\", \"rank\"},\n",
    "    },\n",
    "    \"edgeCollections\": {\n",
    "        \"accountHolder\": {},\n",
    "        \"Relationship\": {},\n",
    "        \"transaction\": {\"receiver_bank_id\", \"sender_bank_id\", \"transaction_amt\", \"transaction_date\", \"trans_time\"},\n",
    "    },\n",
    "}\n",
    "\n",
    "# Introduce the new controller class\n",
    "class FraudDetection_ADBDGL_Controller(Base_ADBDGL_Controller):\n",
    "    \"\"\"ArangoDB-DGL controller.\n",
    "\n",
    "    Responsible for controlling how ArangoDB attributes\n",
    "    are converted into DGL features, and vice-versa.\n",
    "    \"\"\"\n",
    "\n",
    "    def _adb_attribute_to_dgl_feature(self, key: str, col: str, val):\n",
    "        \"\"\"\n",
    "        Given an ArangoDB attribute key, its assigned value (for an arbitrary document),\n",
    "        and the collection it belongs to, convert it to a valid\n",
    "        DGL feature: https://docs.dgl.ai/en/0.6.x/guide/graph-feature.html.\n",
    "\n",
    "        NOTE: DGL only accepts 'attributes' (a.k.a features) of numerical types.\n",
    "        \"\"\"\n",
    "        if type(val) in [int, float, bool]:\n",
    "          return val\n",
    "\n",
    "        if col == \"transaction\":\n",
    "          if key == \"transaction_date\":\n",
    "            return int(str(val).replace(\"-\", \"\"))\n",
    "  \n",
    "          if key == \"trans_time\":\n",
    "            return int(str(val).replace(\":\", \"\"))\n",
    "  \n",
    "        if col == \"customer\":\n",
    "          if key == \"Sex\":\n",
    "            return 0 if val == \"M\" else 1\n",
    "\n",
    "          if key == \"Ssn\":\n",
    "            return int(str(val).replace(\"-\", \"\"))\n",
    "\n",
    "        if col == \"Class\":\n",
    "          if key == \"name\":\n",
    "            if val == \"Bank\":\n",
    "              return 0\n",
    "            elif val == \"Branch\":\n",
    "              return 1\n",
    "            elif val == \"Account\":\n",
    "              return 2\n",
    "            elif val == \"Customer\":\n",
    "              return 3\n",
    "            else:\n",
    "              return -1\n",
    "\n",
    "fraud_adbgl_adapter = ArangoDB_DGL_Adapter(con, FraudDetection_ADBDGL_Controller)\n",
    "\n",
    "# Create DGL Graph from attributes\n",
    "dgl_g = fraud_adbgl_adapter.arangodb_to_dgl('FraudDetection',  fraud_detection_metagraph)\n",
    "\n",
    "# You can also provide valid Python-Arango AQL query options to the command above, like such:\n",
    "# dgl_g = adbdgl_adapter.arangodb_to_dgl(graph_name = 'FraudDetection',  fraud_detection_metagraph, ttl=1000, stream=True)\n",
    "# See more here: https://docs.python-arango.com/en/main/specs.html#arango.aql.AQL.execute\n",
    "\n",
    "# Show graph data\n",
    "print('\\n--------------')\n",
    "print(dgl_g)\n",
    "print('\\n--------------')\n",
    "print(dgl_g.ndata)\n",
    "print('--------------\\n')\n",
    "print(dgl_g.edata)"
   ]
  },
  {
   "cell_type": "markdown",
   "metadata": {
    "id": "bvzJXSHHTi3v"
   },
   "source": [
    "# DGL to ArangoDB"
   ]
  },
  {
   "cell_type": "markdown",
   "metadata": {
    "id": "UafSB_3JZNwK"
   },
   "source": [
    "## Example 1: DGL Karate Graph"
   ]
  },
  {
   "cell_type": "code",
   "execution_count": null,
   "metadata": {
    "colab": {
     "base_uri": "https://localhost:8080/",
     "height": 503
    },
    "id": "eRVbiBy4ZdE4",
    "outputId": "5616995b-816f-458e-e921-8b3a9afefaa1"
   },
   "outputs": [],
   "source": [
    "# Load the dgl graph & draw\n",
    "dgl_karate_graph = KarateClubDataset()[0]\n",
    "nx.draw(dgl_karate_graph.to_networkx(), with_labels=True)\n",
    "\n",
    "# Create the ArangoDB graph\n",
    "name = \"Karate\"\n",
    "python_arango_db_driver.delete_graph(name, drop_collections=True, ignore_missing=True)\n",
    "adb_karate_graph = adbdgl_adapter.dgl_to_arangodb(name, dgl_karate_graph)\n",
    "\n",
    "\n",
    "print(f\"\\nInspect the graph here: https://tutorials.arangodb.cloud:8529/_db/{con['dbName']}/_admin/aardvark/index.html#graph/{name}\\n\")\n",
    "\n",
    "print(\"https://{}:{}\".format(con[\"hostname\"], con[\"port\"]))\n",
    "print(\"Username: \" + con[\"username\"])\n",
    "print(\"Password: \" + con[\"password\"])\n",
    "print(\"Database: \" + con[\"dbName\"])\n",
    "\n",
    "print(f\"\\nView the original graph below:\")"
   ]
  },
  {
   "cell_type": "markdown",
   "metadata": {
    "id": "gshTlSX_ZZsS"
   },
   "source": [
    "## Example 2: DGL MiniGCDataset Graphs"
   ]
  },
  {
   "cell_type": "code",
   "execution_count": null,
   "metadata": {
    "colab": {
     "base_uri": "https://localhost:8080/",
     "height": 1000
    },
    "id": "dADiexlAioGH",
    "outputId": "2f47cf2e-f64c-454a-b849-06a3d0ee19c2"
   },
   "outputs": [],
   "source": [
    "# Load the dgl graphs & draw\n",
    "dgl_lollipop_graph = remove_self_loop(MiniGCDataset(8, 7, 8)[3][0])\n",
    "dgl_lollipop_graph.ndata[\"random_ndata\"] = torch.rand(dgl_lollipop_graph.num_nodes())\n",
    "dgl_lollipop_graph.edata[\"random_edata\"] = torch.rand(dgl_lollipop_graph.num_edges())\n",
    "plt.figure(1)\n",
    "nx.draw(dgl_lollipop_graph.to_networkx(), with_labels=True)\n",
    "\n",
    "dgl_hypercube_graph = remove_self_loop(MiniGCDataset(8, 8, 9)[4][0])\n",
    "dgl_hypercube_graph.ndata[\"random_ndata\"] = torch.rand(dgl_hypercube_graph.num_nodes())\n",
    "dgl_hypercube_graph.edata[\"random_edata\"] = torch.rand(dgl_hypercube_graph.num_edges())\n",
    "plt.figure(2)\n",
    "nx.draw(dgl_hypercube_graph.to_networkx(), with_labels=True)\n",
    "\n",
    "dgl_clique_graph = remove_self_loop(MiniGCDataset(8, 6, 7)[6][0])\n",
    "dgl_clique_graph.ndata[\"random_ndata\"] = torch.rand(dgl_clique_graph.num_nodes())\n",
    "dgl_clique_graph.edata[\"random_edata\"] = torch.rand(dgl_clique_graph.num_edges())\n",
    "plt.figure(3)\n",
    "nx.draw(dgl_clique_graph.to_networkx(), with_labels=True)\n",
    "\n",
    "# Create the ArangoDB graphs\n",
    "lollipop = \"Lollipop\"\n",
    "hypercube = \"Hypercube\"\n",
    "clique = \"Clique\"\n",
    "\n",
    "python_arango_db_driver.delete_graph(lollipop, drop_collections=True, ignore_missing=True)\n",
    "python_arango_db_driver.delete_graph(hypercube, drop_collections=True, ignore_missing=True)\n",
    "python_arango_db_driver.delete_graph(clique, drop_collections=True, ignore_missing=True)\n",
    "\n",
    "adb_lollipop_graph = adbdgl_adapter.dgl_to_arangodb(lollipop, dgl_lollipop_graph)\n",
    "adb_hypercube_graph = adbdgl_adapter.dgl_to_arangodb(hypercube, dgl_hypercube_graph)\n",
    "adb_clique_graph = adbdgl_adapter.dgl_to_arangodb(clique, dgl_clique_graph)\n",
    "\n",
    "print(\"\\nInspect the graphs here:\\n\")\n",
    "print(f\"1) https://tutorials.arangodb.cloud:8529/_db/{con['dbName']}/_admin/aardvark/index.html#graph/{lollipop}\")\n",
    "print(f\"2) https://tutorials.arangodb.cloud:8529/_db/{con['dbName']}/_admin/aardvark/index.html#graph/{hypercube}\")\n",
    "print(f\"3) https://tutorials.arangodb.cloud:8529/_db/{con['dbName']}/_admin/aardvark/index.html#graph/{clique}\\n\")\n",
    "\n",
    "print(\"https://{}:{}\".format(con[\"hostname\"], con[\"port\"]))\n",
    "print(\"Username: \" + con[\"username\"])\n",
    "print(\"Password: \" + con[\"password\"])\n",
    "print(\"Database: \" + con[\"dbName\"])\n",
    "\n",
    "print(f\"\\nView the original graphs below:\")"
   ]
  }
 ],
 "metadata": {
  "colab": {
   "collapsed_sections": [
    "KS9c-vE5eG89",
    "Oc__NAd1eG8-",
    "7y81WHO8eG8_",
    "227hLXnPeG8_",
    "QfE_tKxneG9A",
    "uByvwf9feG9A",
    "bvzJXSHHTi3v"
   ],
   "name": "ArangoDB_DGLAdapter.ipynb",
   "provenance": []
  },
  "kernelspec": {
   "display_name": "Python 3",
   "language": "python",
   "name": "python3"
  },
  "language_info": {
   "codemirror_mode": {
    "name": "ipython",
    "version": 3
   },
   "file_extension": ".py",
   "mimetype": "text/x-python",
   "name": "python",
   "nbconvert_exporter": "python",
   "pygments_lexer": "ipython3",
   "version": "3.7.6"
  }
 },
 "nbformat": 4,
 "nbformat_minor": 0
}
