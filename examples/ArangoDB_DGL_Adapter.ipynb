{
 "cells": [
  {
   "cell_type": "markdown",
   "metadata": {
    "id": "q8KesL7xeG89"
   },
   "source": [
    "# ArangoDB DGL Adapter Getting Started Guide  "
   ]
  },
  {
   "cell_type": "markdown",
   "metadata": {
    "id": "U1d45V4OeG89"
   },
   "source": [
    "<a href=\"https://colab.research.google.com/github/arangoml/dgl-adapter/blob/master/examples/ArangoDB_DGL_Adapter.ipynb\" target=\"_parent\"><img src=\"https://colab.research.google.com/assets/colab-badge.svg\" alt=\"Open In Colab\"/></a>"
   ]
  },
  {
   "cell_type": "markdown",
   "metadata": {
    "id": "Nx9aa3LAeG89"
   },
   "source": [
    "![arangodb](https://raw.githubusercontent.com/arangoml/dgl-adapter/master/examples/assets/adb_logo.png)\n",
    "<img src=\"https://raw.githubusercontent.com/arangoml/dgl-adapter/master/examples/assets/dgl_logo.png\" width=40% />"
   ]
  },
  {
   "cell_type": "markdown",
   "metadata": {
    "id": "bpvZS-1aeG89"
   },
   "source": [
    "Version: 1.0.0\n",
    "\n",
    "Objective: Export Graphs from [ArangoDB](https://www.arangodb.com/), a multi-model Graph Database, to [Deep Graph Library](https://www.dgl.ai/) (DGL), a python package for graph neural networks, and vice-versa."
   ]
  },
  {
   "cell_type": "markdown",
   "metadata": {
    "id": "KS9c-vE5eG89"
   },
   "source": [
    "# Setup"
   ]
  },
  {
   "cell_type": "code",
   "execution_count": null,
   "metadata": {
    "id": "fUnFAFAheG89"
   },
   "outputs": [],
   "source": [
    "%%capture\n",
    "!git clone -b oasis_connector --single-branch https://github.com/arangodb/interactive_tutorials.git\n",
    "!git clone -b 1.0.0 --single-branch https://github.com/arangoml/dgl-adapter.git\n",
    "!rsync -av dgl-adapter/examples/ ./ --exclude=.git\n",
    "!rsync -av interactive_tutorials/ ./ --exclude=.git\n",
    "!pip3 install adbdgl_adapter==1.0.0\n",
    "!pip3 install matplotlib\n",
    "!pip3 install pyArango\n",
    "!pip3 install networkx ## For drawing purposes "
   ]
  },
  {
   "cell_type": "code",
   "execution_count": null,
   "metadata": {
    "colab": {
     "base_uri": "https://localhost:8080/"
    },
    "id": "RpqvL4COeG8-",
    "outputId": "2df55e4e-03fa-47ed-c2c9-baf9f597e1d8"
   },
   "outputs": [],
   "source": [
    "import json\n",
    "import oasis\n",
    "import matplotlib.pyplot as plt\n",
    "\n",
    "import dgl\n",
    "import torch\n",
    "import networkx as nx\n",
    "\n",
    "from dgl import remove_self_loop\n",
    "from dgl.data import KarateClubDataset\n",
    "from dgl.data import MiniGCDataset\n",
    "\n",
    "from adbdgl_adapter.adapter import ADBDGL_Adapter\n",
    "from adbdgl_adapter.controller import ADBDGL_Controller\n",
    "from adbdgl_adapter.typings import Json, ArangoMetagraph, DGLCanonicalEType, DGLDataDict"
   ]
  },
  {
   "cell_type": "markdown",
   "metadata": {
    "id": "ot1oJqn7m78n"
   },
   "source": [
    "# Understanding DGL"
   ]
  },
  {
   "cell_type": "markdown",
   "metadata": {
    "id": "N6Bx3hTjnGd7"
   },
   "source": [
    "(referenced from [docs.dgl.ai](https://docs.dgl.ai/en/0.6.x/))\n",
    "\n",
    "\n",
    "Deep Graph Library (DGL) is a Python package built for easy implementation of graph neural network model family, on top of existing DL frameworks (currently supporting **PyTorch**, **MXNet** and **TensorFlow**).\n",
    "\n",
    "DGL represents a directed graph as a `DGLGraph` object. You can construct a graph by specifying the number of nodes in the graph as well as the list of source and destination nodes. **Nodes in the graph have consecutive IDs starting from 0.**\n",
    "\n",
    "The following code constructs a directed \"star\" homogeneous graph with 6 nodes and 5 edges. \n"
   ]
  },
  {
   "cell_type": "code",
   "execution_count": null,
   "metadata": {
    "colab": {
     "base_uri": "https://localhost:8080/"
    },
    "id": "vf0350qvj8up",
    "outputId": "a65f00d2-cd6e-4583-94d8-2c9884e2e2e2"
   },
   "outputs": [],
   "source": [
    "# A homogeneous graph with 6 nodes, and 5 edges\n",
    "g = dgl.graph(([0, 0, 0, 0, 0], [1, 2, 3, 4, 5]))\n",
    "print(g)\n",
    "\n",
    "# Print the graph's canonical edge types\n",
    "print(\"\\nCanonical Edge Types: \", g.canonical_etypes)\n",
    "# [('_N', '_E', '_N')]\n",
    "# '_N' being the only Node type\n",
    "# '_E' being the only Edge type"
   ]
  },
  {
   "cell_type": "markdown",
   "metadata": {
    "id": "wvJ0506mkMjz"
   },
   "source": [
    "\n",
    "In DGL, a heterogeneous graph (heterograph for short) is specified with a series of graphs as below, one per relation. Each relation is a string triplet `(source node type, edge type, destination node type)`. Since relations disambiguate the edge types, DGL calls them canonical edge types:"
   ]
  },
  {
   "cell_type": "code",
   "execution_count": null,
   "metadata": {
    "colab": {
     "base_uri": "https://localhost:8080/"
    },
    "id": "oOS3AVAnkQEV",
    "outputId": "4609cdef-25ce-4f00-94b5-482c76274f88"
   },
   "outputs": [],
   "source": [
    "# A heterogeneous graph with 8 nodes, and 7 edges\n",
    "g = dgl.heterograph({\n",
    "    ('user', 'follows', 'user'): (torch.tensor([0, 1]), torch.tensor([1, 2])),\n",
    "    ('user', 'follows', 'game'): (torch.tensor([0, 1, 2]), torch.tensor([1, 2, 3])),\n",
    "    ('user', 'plays', 'game'): (torch.tensor([1, 3]), torch.tensor([2, 3]))\n",
    "})\n",
    "\n",
    "print(g)\n",
    "print(\"\\nCanonical Edge Types: \", g.canonical_etypes)\n",
    "print(\"\\nNode Types: \", g.ntypes)\n",
    "print(\"\\nEdge Types: \", g.etypes)"
   ]
  },
  {
   "cell_type": "markdown",
   "metadata": {
    "id": "5C-R0tkkkS5N"
   },
   "source": [
    "Many graph data contain attributes on nodes and edges. Although the types of node and edge attributes can be arbitrary in real world, **DGLGraph only accepts attributes stored in tensors** (with numerical contents). Consequently, an attribute of all the nodes or edges must have the same shape. In the context of deep learning, those attributes are often called features.\n",
    "\n",
    "You can assign and retrieve node and edge features via ndata and edata interface."
   ]
  },
  {
   "cell_type": "code",
   "execution_count": null,
   "metadata": {
    "colab": {
     "base_uri": "https://localhost:8080/"
    },
    "id": "meLon-KgkU4h",
    "outputId": "976680a4-eadd-43f2-da17-e6a574fad8a7"
   },
   "outputs": [],
   "source": [
    "# A homogeneous graph with 6 nodes, and 5 edges\n",
    "g = dgl.graph(([0, 0, 0, 0, 0], [1, 2, 3, 4, 5]))\n",
    "\n",
    "# Assign an integer value for each node.\n",
    "g.ndata['x'] = torch.tensor([151, 124, 41, 89, 76, 55])\n",
    "# Assign a 4-dimensional edge feature vector for each edge.\n",
    "g.edata['a'] = torch.randn(5, 4)\n",
    "\n",
    "print(g)\n",
    "print(\"\\nNode Data X attribute: \", g.ndata['x'])\n",
    "print(\"\\nEdge Data A attribute: \", g.edata['a'])\n",
    "\n",
    "\n",
    "# NOTE: The following line ndata insertion will fail, since not all nodes have been assigned an attribute value\n",
    "# g.ndata['bad_attribute'] = torch.tensor([0,10,20,30,40])"
   ]
  },
  {
   "cell_type": "markdown",
   "metadata": {
    "id": "ETRCZzF1lSLE"
   },
   "source": [
    "When multiple node/edge types are introduced, users need to specify the particular node/edge type when invoking a DGLGraph API for type-specific information. In addition, nodes/edges of different types have separate IDs."
   ]
  },
  {
   "cell_type": "code",
   "execution_count": null,
   "metadata": {
    "colab": {
     "base_uri": "https://localhost:8080/"
    },
    "id": "zTebQ0LOlsGA",
    "outputId": "9c84cb84-f7ce-42b3-9174-01f38295c5dd"
   },
   "outputs": [],
   "source": [
    "g = dgl.heterograph({\n",
    "    ('user', 'follows', 'user'): (torch.tensor([0, 1]), torch.tensor([1, 2])),\n",
    "    ('user', 'follows', 'game'): (torch.tensor([0, 1, 2]), torch.tensor([1, 2, 3])),\n",
    "    ('user', 'plays', 'game'): (torch.tensor([1, 3]), torch.tensor([2, 3]))\n",
    "})\n",
    "\n",
    "# Get the number of all nodes in the graph\n",
    "print(\"All nodes: \", g.num_nodes())\n",
    "\n",
    "# Get the number of user nodes\n",
    "print(\"User nodes: \", g.num_nodes('user'))\n",
    "\n",
    "# Nodes of different types have separate IDs,\n",
    "# hence not well-defined without a type specified\n",
    "# print(g.nodes())\n",
    "#DGLError: Node type name must be specified if there are more than one node types.\n",
    "\n",
    "print(g.nodes('user'))"
   ]
  },
  {
   "cell_type": "markdown",
   "metadata": {
    "id": "H9dwJuKvmK0w"
   },
   "source": [
    "To set/get features for a specific node/edge type, DGL provides two new types of syntax – g.nodes[‘node_type’].data[‘feat_name’] and g.edges[‘edge_type’].data[‘feat_name’].\n",
    "\n",
    "**Note:** If the graph only has one node/edge type, there is no need to specify the node/edge type."
   ]
  },
  {
   "cell_type": "code",
   "execution_count": null,
   "metadata": {
    "colab": {
     "base_uri": "https://localhost:8080/"
    },
    "id": "KsxNujb0mSqZ",
    "outputId": "3f3fd2b1-e1d3-4b03-c6c4-43566672cbb5"
   },
   "outputs": [],
   "source": [
    "g = dgl.heterograph({\n",
    "    ('user', 'follows', 'user'): (torch.tensor([0, 1]), torch.tensor([1, 2])),\n",
    "    ('user', 'follows', 'game'): (torch.tensor([0, 1, 2]), torch.tensor([1, 2, 3])),\n",
    "    ('user', 'plays', 'game'): (torch.tensor([1, 3]), torch.tensor([2, 3]))\n",
    "})\n",
    "\n",
    "g.nodes['user'].data['age'] = torch.tensor([21, 16, 38, 64])\n",
    "# An alternative (yet equivalent) syntax:\n",
    "# g.ndata['age'] = {'user': torch.tensor([21, 16, 38, 64])}\n",
    "\n",
    "print(g.ndata)"
   ]
  },
  {
   "cell_type": "markdown",
   "metadata": {
    "id": "1M_isKWLnCfr"
   },
   "source": [
    "For more info, visit https://docs.dgl.ai/en/0.6.x/. "
   ]
  },
  {
   "cell_type": "markdown",
   "metadata": {
    "id": "Oc__NAd1eG8-"
   },
   "source": [
    "# Create a Temporary ArangoDB Instance"
   ]
  },
  {
   "cell_type": "code",
   "execution_count": null,
   "metadata": {
    "colab": {
     "base_uri": "https://localhost:8080/"
    },
    "id": "2ekGwnJDeG8-",
    "outputId": "92e9d288-0259-45cc-e73d-a8e9f629063a"
   },
   "outputs": [],
   "source": [
    "# Request temporary instance from the managed ArangoDB Cloud Oasis.\n",
    "con = oasis.getTempCredentials()\n",
    "\n",
    "# Connect to the db via the python-arango driver\n",
    "python_arango_db_driver = oasis.connect_python_arango(con)\n",
    "\n",
    "# (Alternative) Connect to the db via the pyArango driver\n",
    "# pyarango_db_driver = oasis.connect(con)[con['dbName']]\n",
    "\n",
    "print()\n",
    "print(\"https://{}:{}\".format(con[\"hostname\"], con[\"port\"]))\n",
    "print(\"Username: \" + con[\"username\"])\n",
    "print(\"Password: \" + con[\"password\"])\n",
    "print(\"Database: \" + con[\"dbName\"])"
   ]
  },
  {
   "cell_type": "markdown",
   "metadata": {
    "id": "e4QfL37neG8_"
   },
   "source": [
    "Feel free to use to above URL to checkout the UI!"
   ]
  },
  {
   "cell_type": "markdown",
   "metadata": {
    "id": "7y81WHO8eG8_"
   },
   "source": [
    "# Data Import"
   ]
  },
  {
   "cell_type": "markdown",
   "metadata": {
    "id": "BM0iRYPDeG8_"
   },
   "source": [
    "We will use an Fraud Detection example graph, explained in more detail in this [interactive notebook](https://colab.research.google.com/github/joerg84/Graph_Powered_ML_Workshop/blob/master/Fraud_Detection.ipynb)."
   ]
  },
  {
   "cell_type": "markdown",
   "metadata": {
    "id": "1jWclaDdeG8_"
   },
   "source": [
    "*Note the included arangorestore will only work on Linux system, if you want to run this notebook on a different OS please consider using the appropriate arangorestore from the [Download area](https://www.arangodb.com/download-major/).*"
   ]
  },
  {
   "cell_type": "code",
   "execution_count": null,
   "metadata": {
    "id": "7bgGJ3QkeG8_"
   },
   "outputs": [],
   "source": [
    "%%capture\n",
    "!chmod -R 755 ./tools\n",
    "!./tools/arangorestore -c none --server.endpoint http+ssl://{con[\"hostname\"]}:{con[\"port\"]} --server.username {con[\"username\"]} --server.database {con[\"dbName\"]} --server.password {con[\"password\"]} --replication-factor 3  --input-directory \"data/fraud_dump\""
   ]
  },
  {
   "cell_type": "markdown",
   "metadata": {
    "id": "227hLXnPeG8_"
   },
   "source": [
    "# Create Graph"
   ]
  },
  {
   "cell_type": "markdown",
   "metadata": {
    "id": "howeguvmeG8_"
   },
   "source": [
    "The graph we will be using in the following looks as follows:"
   ]
  },
  {
   "cell_type": "markdown",
   "metadata": {
    "id": "WqRlqnJCeG8_"
   },
   "source": [
    "![networkX](https://github.com/arangoml/networkx-adapter/blob/master/examples/assets/fraud_graph.jpeg?raw=1) "
   ]
  },
  {
   "cell_type": "code",
   "execution_count": null,
   "metadata": {
    "colab": {
     "base_uri": "https://localhost:8080/"
    },
    "id": "PybHP7jpeG8_",
    "outputId": "ba3bfc7c-ef56-47e7-8e98-3763d4f34afe"
   },
   "outputs": [],
   "source": [
    "edge_definitions = [\n",
    "    {\n",
    "        \"edge_collection\": \"accountHolder\",\n",
    "        \"from_vertex_collections\": [\"customer\"],\n",
    "        \"to_vertex_collections\": [\"account\"],\n",
    "    },\n",
    "    {\n",
    "        \"edge_collection\": \"transaction\",\n",
    "        \"from_vertex_collections\": [\"account\"],\n",
    "        \"to_vertex_collections\": [\"account\"],\n",
    "    },\n",
    "]\n",
    "\n",
    "name = \"fraud-detection\"\n",
    "python_arango_db_driver.delete_graph(name, ignore_missing=True)\n",
    "fraud_graph = python_arango_db_driver.create_graph(name, edge_definitions=edge_definitions)\n",
    "\n",
    "print(\"Graph Setup done.\")\n",
    "print(fraud_graph)"
   ]
  },
  {
   "cell_type": "markdown",
   "metadata": {
    "id": "ANrsn9GreG9A"
   },
   "source": [
    "Feel free to visit the ArangoDB UI using the above link and login data and check the Graph!"
   ]
  },
  {
   "cell_type": "markdown",
   "metadata": {
    "id": "QfE_tKxneG9A"
   },
   "source": [
    "# Create Adapter"
   ]
  },
  {
   "cell_type": "markdown",
   "metadata": {
    "id": "kGfhzPT9eG9A"
   },
   "source": [
    "Connect the ArangoDB_DGL_Adapter to our temp ArangoDB cluster:"
   ]
  },
  {
   "cell_type": "code",
   "execution_count": null,
   "metadata": {
    "colab": {
     "base_uri": "https://localhost:8080/"
    },
    "id": "oG496kBeeG9A",
    "outputId": "50ecbdf5-c82f-4540-d345-14eb4a488f2c"
   },
   "outputs": [],
   "source": [
    "adbdgl_adapter = ADBDGL_Adapter(con)"
   ]
  },
  {
   "cell_type": "markdown",
   "metadata": {
    "id": "uByvwf9feG9A"
   },
   "source": [
    "# ArangoDB to DGL\n",
    "\n"
   ]
  },
  {
   "cell_type": "markdown",
   "metadata": {
    "id": "ZrEDmtqCVD0W"
   },
   "source": [
    "## Via ArangoDB Graph"
   ]
  },
  {
   "cell_type": "code",
   "execution_count": null,
   "metadata": {
    "colab": {
     "base_uri": "https://localhost:8080/"
    },
    "id": "zZ-Hu3lLVHgd",
    "outputId": "39f32c51-0753-45a8-a361-dcf46d4e6148"
   },
   "outputs": [],
   "source": [
    "# Define graph name\n",
    "graph_name = \"fraud-detection\"\n",
    "\n",
    "# Create DGL graph from ArangoDB graph\n",
    "dgl_g = adbdgl_adapter.arangodb_graph_to_dgl(graph_name)\n",
    "\n",
    "# You can also provide valid Python-Arango AQL query options to the command above, like such:\n",
    "# dgl_g = aadbdgl_adapter.arangodb_graph_to_dgl(graph_name, ttl=1000, stream=True)\n",
    "# See more here: https://docs.python-arango.com/en/main/specs.html#arango.aql.AQL.execute\n",
    "\n",
    "# Show graph data\n",
    "print(dgl_g)\n",
    "print(dgl_g.ntypes)\n",
    "print(dgl_g.etypes)"
   ]
  },
  {
   "cell_type": "markdown",
   "metadata": {
    "id": "RQ4CknYfUEuz"
   },
   "source": [
    "## Via ArangoDB Collections"
   ]
  },
  {
   "cell_type": "code",
   "execution_count": null,
   "metadata": {
    "colab": {
     "base_uri": "https://localhost:8080/"
    },
    "id": "i4XOpdRLUNlJ",
    "outputId": "b58e75d1-e935-4abd-9bdb-bc8935d9cdc8"
   },
   "outputs": [],
   "source": [
    "# Define collection\n",
    "vertex_collections = {\"account\", \"Class\", \"customer\"}\n",
    "edge_collections = {\"accountHolder\", \"Relationship\", \"transaction\"}\n",
    "\n",
    "# Create DGL from ArangoDB collections\n",
    "dgl_g = adbdgl_adapter.arangodb_collections_to_dgl(\"fraud-detection\", vertex_collections, edge_collections)\n",
    "\n",
    "# You can also provide valid Python-Arango AQL query options to the command above, like such:\n",
    "# dgl_g = adbdgl_adapter.arangodb_collections_to_dgl(\"fraud-detection\", vertex_collections, edge_collections, ttl=1000, stream=True)\n",
    "# See more here: https://docs.python-arango.com/en/main/specs.html#arango.aql.AQL.execute\n",
    "\n",
    "# Show graph data\n",
    "print(dgl_g)\n",
    "print(dgl_g.ntypes)\n",
    "print(dgl_g.etypes)"
   ]
  },
  {
   "cell_type": "markdown",
   "metadata": {
    "id": "qEH6OdSB23Ya"
   },
   "source": [
    "## Via ArangoDB Metagraph"
   ]
  },
  {
   "cell_type": "code",
   "execution_count": null,
   "metadata": {
    "colab": {
     "base_uri": "https://localhost:8080/"
    },
    "id": "7Kz8lXXq23Yk",
    "outputId": "1458aef6-14e5-48c0-98bf-77f21431bc73"
   },
   "outputs": [],
   "source": [
    "# Define Metagraph\n",
    "fraud_detection_metagraph = {\n",
    "    \"vertexCollections\": {\n",
    "        \"account\": {\"rank\"},\n",
    "        \"Class\": {\"concrete\"},\n",
    "        \"customer\": {\"rank\"},\n",
    "    },\n",
    "    \"edgeCollections\": {\n",
    "        \"accountHolder\": {},\n",
    "        \"Relationship\": {},\n",
    "        \"transaction\": {\"receiver_bank_id\", \"sender_bank_id\", \"transaction_amt\"},\n",
    "    },\n",
    "}\n",
    "\n",
    "# Create DGL Graph from attributes\n",
    "dgl_g = adbdgl_adapter.arangodb_to_dgl('FraudDetection',  fraud_detection_metagraph)\n",
    "\n",
    "# You can also provide valid Python-Arango AQL query options to the command above, like such:\n",
    "# dgl_g = adbdgl_adapter.arangodb_to_dgl(graph_name = 'FraudDetection',  fraud_detection_metagraph, ttl=1000, stream=True)\n",
    "# See more here: https://docs.python-arango.com/en/main/specs.html#arango.aql.AQL.execute\n",
    "\n",
    "# Show graph data\n",
    "print('\\n--------------')\n",
    "print(dgl_g)\n",
    "print('\\n--------------')\n",
    "print(dgl_g.ndata)\n",
    "print('--------------\\n')\n",
    "print(dgl_g.edata)"
   ]
  },
  {
   "cell_type": "markdown",
   "metadata": {
    "id": "DqIKT1lO4ASw"
   },
   "source": [
    "## Via ArangoDB Metagraph with a custom controller"
   ]
  },
  {
   "cell_type": "code",
   "execution_count": null,
   "metadata": {
    "colab": {
     "base_uri": "https://localhost:8080/"
    },
    "id": "U4_vSdU_4AS4",
    "outputId": "b719b0d4-c0a4-43a0-915f-8ee765e1ec86"
   },
   "outputs": [],
   "source": [
    "# Define Metagraph\n",
    "fraud_detection_metagraph = {\n",
    "    \"vertexCollections\": {\n",
    "        \"account\": {\"rank\"},\n",
    "        \"Class\": {\"concrete\", \"name\"},\n",
    "        \"customer\": {\"Sex\", \"Ssn\", \"rank\"},\n",
    "    },\n",
    "    \"edgeCollections\": {\n",
    "        \"accountHolder\": {},\n",
    "        \"Relationship\": {},\n",
    "        \"transaction\": {\"receiver_bank_id\", \"sender_bank_id\", \"transaction_amt\", \"transaction_date\", \"trans_time\"},\n",
    "    },\n",
    "}\n",
    "\n",
    "# When converting to DGL via an ArangoDB Metagraph that contains non-numerical values, a user-defined \n",
    "# Controller class is required to specify how ArangoDB attributes should be converted to DGL features.\n",
    "class FraudDetection_ADBDGL_Controller(ADBDGL_Controller):\n",
    "    \"\"\"ArangoDB-DGL controller.\n",
    "\n",
    "    Responsible for controlling how ArangoDB attributes\n",
    "    are converted into DGL features, and vice-versa.\n",
    "\n",
    "    You can derive your own custom ADBDGL_Controller if you want to maintain\n",
    "    consistency between your ArangoDB attributes & your DGL features.\n",
    "    \"\"\"\n",
    "\n",
    "    def _adb_attribute_to_dgl_feature(self, key: str, col: str, val):\n",
    "        \"\"\"\n",
    "        Given an ArangoDB attribute key, its assigned value (for an arbitrary document),\n",
    "        and the collection it belongs to, convert it to a valid\n",
    "        DGL feature: https://docs.dgl.ai/en/0.6.x/guide/graph-feature.html.\n",
    "\n",
    "        NOTE: You must override this function if you want to transfer non-numerical\n",
    "        ArangoDB attributes to DGL (DGL only accepts 'attributes' (a.k.a features)\n",
    "        of numerical types). Read more about DGL features here:\n",
    "        https://docs.dgl.ai/en/0.6.x/new-tutorial/2_dglgraph.html#assigning-node-and-edge-features-to-graph.\n",
    "\n",
    "        :param key: The ArangoDB attribute key name\n",
    "        :type key: str\n",
    "        :param col: The ArangoDB collection of the ArangoDB document.\n",
    "        :type col: str\n",
    "        :param val: The assigned attribute value of the ArangoDB document.\n",
    "        :type val: Any\n",
    "        :return: The attribute's representation as a DGL Feature\n",
    "        :rtype: Any\n",
    "        \"\"\"\n",
    "        if col == \"transaction\":\n",
    "          if key == \"transaction_date\":\n",
    "            return int(str(val).replace(\"-\", \"\"))\n",
    "  \n",
    "          if key == \"trans_time\":\n",
    "            return int(str(val).replace(\":\", \"\"))\n",
    "  \n",
    "        if col == \"customer\":\n",
    "          if key == \"Sex\":\n",
    "            return 0 if val == \"M\" else 1\n",
    "\n",
    "          if key == \"Ssn\":\n",
    "            return int(str(val).replace(\"-\", \"\"))\n",
    "\n",
    "        if col == \"Class\":\n",
    "          if key == \"name\":\n",
    "            if val == \"Bank\":\n",
    "              return 0\n",
    "            elif val == \"Branch\":\n",
    "              return 1\n",
    "            elif val == \"Account\":\n",
    "              return 2\n",
    "            elif val == \"Customer\":\n",
    "              return 3\n",
    "            else:\n",
    "              return -1\n",
    "\n",
    "        return super()._adb_attribute_to_dgl_feature(key, col, val)\n",
    "\n",
    "fraud_adbdgl_adapter = ADBDGL_Adapter(con, FraudDetection_ADBDGL_Controller())\n",
    "\n",
    "# Create DGL Graph from attributes\n",
    "dgl_g = fraud_adbdgl_adapter.arangodb_to_dgl('FraudDetection',  fraud_detection_metagraph)\n",
    "\n",
    "# You can also provide valid Python-Arango AQL query options to the command above, like such:\n",
    "# dgl_g = fraud_adbdgl_adapter.arangodb_to_dgl(graph_name = 'FraudDetection',  fraud_detection_metagraph, ttl=1000, stream=True)\n",
    "# See more here: https://docs.python-arango.com/en/main/specs.html#arango.aql.AQL.execute\n",
    "\n",
    "# Show graph data\n",
    "print('\\n--------------')\n",
    "print(dgl_g)\n",
    "print('\\n--------------')\n",
    "print(dgl_g.ndata)\n",
    "print('--------------\\n')\n",
    "print(dgl_g.edata)"
   ]
  },
  {
   "cell_type": "markdown",
   "metadata": {
    "id": "bvzJXSHHTi3v"
   },
   "source": [
    "# DGL to ArangoDB"
   ]
  },
  {
   "cell_type": "markdown",
   "metadata": {
    "id": "UafSB_3JZNwK"
   },
   "source": [
    "## Example 1: DGL Karate Graph"
   ]
  },
  {
   "cell_type": "code",
   "execution_count": null,
   "metadata": {
    "colab": {
     "base_uri": "https://localhost:8080/",
     "height": 577
    },
    "id": "eRVbiBy4ZdE4",
    "outputId": "d44eb9d9-e046-443b-8ded-79654f004e02"
   },
   "outputs": [],
   "source": [
    "# Load the dgl graph & draw\n",
    "dgl_karate_graph = KarateClubDataset()[0]\n",
    "nx.draw(dgl_karate_graph.to_networkx(), with_labels=True)\n",
    "\n",
    "# Create the ArangoDB graph\n",
    "name = \"Karate\"\n",
    "python_arango_db_driver.delete_graph(name, drop_collections=True, ignore_missing=True)\n",
    "adb_karate_graph = adbdgl_adapter.dgl_to_arangodb(name, dgl_karate_graph)\n",
    "\n",
    "print('\\n--------------------')\n",
    "print(\"https://{}:{}\".format(con[\"hostname\"], con[\"port\"]))\n",
    "print(\"Username: \" + con[\"username\"])\n",
    "print(\"Password: \" + con[\"password\"])\n",
    "print(\"Database: \" + con[\"dbName\"])\n",
    "print('--------------------\\n')\n",
    "print(f\"\\nInspect the graph here: https://tutorials.arangodb.cloud:8529/_db/{con['dbName']}/_admin/aardvark/index.html#graph/{name}\\n\")\n",
    "print(f\"\\nView the original graph below:\")"
   ]
  },
  {
   "cell_type": "markdown",
   "metadata": {
    "id": "gshTlSX_ZZsS"
   },
   "source": [
    "\n",
    "## Example 2: DGL MiniGCDataset Graphs"
   ]
  },
  {
   "cell_type": "code",
   "execution_count": null,
   "metadata": {
    "colab": {
     "base_uri": "https://localhost:8080/",
     "height": 1000
    },
    "id": "dADiexlAioGH",
    "outputId": "273988c8-1749-4fe0-85fe-51b0e1ab2058"
   },
   "outputs": [],
   "source": [
    "# Load the dgl graphs & draw\n",
    "dgl_lollipop_graph = remove_self_loop(MiniGCDataset(8, 7, 8)[3][0])\n",
    "plt.figure(1)\n",
    "nx.draw(dgl_lollipop_graph.to_networkx(), with_labels=True)\n",
    "\n",
    "dgl_hypercube_graph = remove_self_loop(MiniGCDataset(8, 8, 9)[4][0])\n",
    "plt.figure(2)\n",
    "nx.draw(dgl_hypercube_graph.to_networkx(), with_labels=True)\n",
    "\n",
    "dgl_clique_graph = remove_self_loop(MiniGCDataset(8, 6, 7)[6][0])\n",
    "plt.figure(3)\n",
    "nx.draw(dgl_clique_graph.to_networkx(), with_labels=True)\n",
    "\n",
    "# Create the ArangoDB graphs\n",
    "lollipop = \"Lollipop\"\n",
    "hypercube = \"Hypercube\"\n",
    "clique = \"Clique\"\n",
    "\n",
    "python_arango_db_driver.delete_graph(lollipop, drop_collections=True, ignore_missing=True)\n",
    "python_arango_db_driver.delete_graph(hypercube, drop_collections=True, ignore_missing=True)\n",
    "python_arango_db_driver.delete_graph(clique, drop_collections=True, ignore_missing=True)\n",
    "\n",
    "adb_lollipop_graph = adbdgl_adapter.dgl_to_arangodb(lollipop, dgl_lollipop_graph)\n",
    "adb_hypercube_graph = adbdgl_adapter.dgl_to_arangodb(hypercube, dgl_hypercube_graph)\n",
    "adb_clique_graph = adbdgl_adapter.dgl_to_arangodb(clique, dgl_clique_graph)\n",
    "\n",
    "print('\\n--------------------')\n",
    "print(\"https://{}:{}\".format(con[\"hostname\"], con[\"port\"]))\n",
    "print(\"Username: \" + con[\"username\"])\n",
    "print(\"Password: \" + con[\"password\"])\n",
    "print(\"Database: \" + con[\"dbName\"])\n",
    "print('--------------------\\n')\n",
    "print(\"\\nInspect the graphs here:\\n\")\n",
    "print(f\"1) https://tutorials.arangodb.cloud:8529/_db/{con['dbName']}/_admin/aardvark/index.html#graph/{lollipop}\")\n",
    "print(f\"2) https://tutorials.arangodb.cloud:8529/_db/{con['dbName']}/_admin/aardvark/index.html#graph/{hypercube}\")\n",
    "print(f\"3) https://tutorials.arangodb.cloud:8529/_db/{con['dbName']}/_admin/aardvark/index.html#graph/{clique}\\n\")\n",
    "print(f\"\\nView the original graphs below:\")"
   ]
  },
  {
   "cell_type": "markdown",
   "metadata": {
    "id": "CNj1xKhwoJoL"
   },
   "source": [
    "\n",
    "## Example 3: DGL MiniGCDataset Graphs with a custom controller"
   ]
  },
  {
   "cell_type": "code",
   "execution_count": null,
   "metadata": {
    "colab": {
     "base_uri": "https://localhost:8080/"
    },
    "id": "jbJsvMMaoJoT",
    "outputId": "2ddca41f-9c8b-4db4-c0aa-c1b2cc124fa5"
   },
   "outputs": [],
   "source": [
    "from torch.functional import Tensor\n",
    "\n",
    "# Load the dgl graphs\n",
    "dgl_lollipop_graph = remove_self_loop(MiniGCDataset(8, 7, 8)[3][0])\n",
    "dgl_hypercube_graph = remove_self_loop(MiniGCDataset(8, 8, 9)[4][0])\n",
    "dgl_clique_graph = remove_self_loop(MiniGCDataset(8, 6, 7)[6][0])\n",
    "\n",
    " # Add DGL Node & Edge Features to each graph\n",
    "dgl_lollipop_graph.ndata[\"random_ndata\"] = torch.tensor(\n",
    "    [[i, i, i] for i in range(0, dgl_lollipop_graph.num_nodes())]\n",
    ")\n",
    "dgl_lollipop_graph.edata[\"random_edata\"] = torch.rand(dgl_lollipop_graph.num_edges())\n",
    "\n",
    "dgl_hypercube_graph.ndata[\"random_ndata\"] = torch.rand(dgl_hypercube_graph.num_nodes())\n",
    "dgl_hypercube_graph.edata[\"random_edata\"] = torch.tensor(\n",
    "    [[[i], [i], [i]] for i in range(0, dgl_hypercube_graph.num_edges())]\n",
    ")\n",
    "\n",
    "dgl_clique_graph.ndata['clique_ndata'] = torch.tensor([1,2,3,4,5,6])\n",
    "dgl_clique_graph.edata['clique_edata'] = torch.tensor(\n",
    "    [1 if i % 2 == 0 else 0 for i in range(0, dgl_clique_graph.num_edges())]\n",
    ")\n",
    "\n",
    "\n",
    "# When converting to ArangoDB from DGL, a user-defined Controller class\n",
    "# is required to specify how DGL features (aka attributes) should be converted \n",
    "# into ArangoDB attributes. NOTE: A custom Controller is NOT needed you want to\n",
    "# keep the numerical-based values of your DGL features.\n",
    "class Clique_ADBDGL_Controller(ADBDGL_Controller):\n",
    "    \"\"\"ArangoDB-DGL controller.\n",
    "\n",
    "    Responsible for controlling how ArangoDB attributes\n",
    "    are converted into DGL features, and vice-versa.\n",
    "\n",
    "    You can derive your own custom ADBDGL_Controller if you want to maintain\n",
    "    consistency between your ArangoDB attributes & your DGL features.\n",
    "    \"\"\"\n",
    "\n",
    "    def _dgl_feature_to_adb_attribute(self, key: str, col: str, val: Tensor):\n",
    "        \"\"\"\n",
    "        Given a DGL feature key, its assigned value (for an arbitrary node or edge),\n",
    "        and the collection it belongs to, convert it to a valid ArangoDB attribute\n",
    "        (e.g string, list, number, ...).\n",
    "\n",
    "        NOTE: No action is needed here if you want to keep the numerical-based values\n",
    "        of your DGL features.\n",
    "\n",
    "        :param key: The DGL attribute key name\n",
    "        :type key: str\n",
    "        :param col: The ArangoDB collection of the (soon-to-be) ArangoDB document.\n",
    "        :type col: str\n",
    "        :param val: The assigned attribute value of the DGL node.\n",
    "        :type val: Tensor\n",
    "        :return: The feature's representation as an ArangoDB Attribute\n",
    "        :rtype: Any\n",
    "        \"\"\"\n",
    "        if key == \"clique_ndata\":\n",
    "          if val == 1:\n",
    "            return \"one is fun\"\n",
    "          elif val == 2:\n",
    "            return \"two is blue\"\n",
    "          elif val == 3:\n",
    "            return \"three is free\"\n",
    "          elif val == 4:\n",
    "            return \"four is more\"\n",
    "          else: # No special string for values 5 & 6\n",
    "            return f\"ERROR! Unrecognized value, got {val}\"\n",
    "\n",
    "        if key == \"clique_edata\":\n",
    "          return bool(val)\n",
    "\n",
    "        return super()._dgl_feature_to_adb_attribute(key, col, val)\n",
    "\n",
    "# Re-instantiate a new adapter specifically for the Clique Graph Conversion\n",
    "clique_adbgl_adapter = ADBDGL_Adapter(con, Clique_ADBDGL_Controller())\n",
    "\n",
    "# Create the ArangoDB graphs\n",
    "lollipop = \"Lollipop_With_Attributes\"\n",
    "hypercube = \"Hypercube_With_Attributes\"\n",
    "clique = \"Clique_With_Attributes\"\n",
    "\n",
    "python_arango_db_driver.delete_graph(lollipop, drop_collections=True, ignore_missing=True)\n",
    "python_arango_db_driver.delete_graph(hypercube, drop_collections=True, ignore_missing=True)\n",
    "python_arango_db_driver.delete_graph(clique, drop_collections=True, ignore_missing=True)\n",
    "\n",
    "adb_lollipop_graph = adbdgl_adapter.dgl_to_arangodb(lollipop, dgl_lollipop_graph)\n",
    "adb_hypercube_graph = adbdgl_adapter.dgl_to_arangodb(hypercube, dgl_hypercube_graph)\n",
    "adb_clique_graph = clique_adbgl_adapter.dgl_to_arangodb(clique, dgl_clique_graph) # Notice the new adapter here!\n",
    "\n",
    "print('\\n--------------------')\n",
    "print(\"https://{}:{}\".format(con[\"hostname\"], con[\"port\"]))\n",
    "print(\"Username: \" + con[\"username\"])\n",
    "print(\"Password: \" + con[\"password\"])\n",
    "print(\"Database: \" + con[\"dbName\"])\n",
    "print('--------------------\\n')\n",
    "print(\"\\nInspect the graphs here:\\n\")\n",
    "print(f\"1) https://tutorials.arangodb.cloud:8529/_db/{con['dbName']}/_admin/aardvark/index.html#graph/{lollipop}\")\n",
    "print(f\"2) https://tutorials.arangodb.cloud:8529/_db/{con['dbName']}/_admin/aardvark/index.html#graph/{hypercube}\")\n",
    "print(f\"3) https://tutorials.arangodb.cloud:8529/_db/{con['dbName']}/_admin/aardvark/index.html#graph/{clique}\\n\")"
   ]
  }
 ],
 "metadata": {
  "colab": {
   "collapsed_sections": [
    "ot1oJqn7m78n",
    "7y81WHO8eG8_",
    "227hLXnPeG8_",
    "QfE_tKxneG9A",
    "ZrEDmtqCVD0W",
    "qEH6OdSB23Ya",
    "UafSB_3JZNwK",
    "gshTlSX_ZZsS"
   ],
   "name": "ArangoDB_DGL_Adapter_v1.0.0.ipynb",
   "provenance": []
  },
  "kernelspec": {
   "display_name": "Python 3",
   "language": "python",
   "name": "python3"
  },
  "language_info": {
   "codemirror_mode": {
    "name": "ipython",
    "version": 3
   },
   "file_extension": ".py",
   "mimetype": "text/x-python",
   "name": "python",
   "nbconvert_exporter": "python",
   "pygments_lexer": "ipython3",
   "version": "3.7.6"
  }
 },
 "nbformat": 4,
 "nbformat_minor": 0
}
