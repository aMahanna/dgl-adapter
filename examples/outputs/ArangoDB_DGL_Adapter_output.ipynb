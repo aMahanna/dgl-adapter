{
  "cells": [
    {
      "cell_type": "markdown",
      "metadata": {
        "id": "q8KesL7xeG89"
      },
      "source": [
        "# ArangoDB DGL Adapter Getting Started Guide  "
      ]
    },
    {
      "cell_type": "markdown",
      "metadata": {
        "id": "U1d45V4OeG89"
      },
      "source": [
        "<a href=\"https://colab.research.google.com/github/arangoml/dgl-adapter/blob/2.0.0/examples/ArangoDB_DGL_Adapter.ipynb\" target=\"_parent\"><img src=\"https://colab.research.google.com/assets/colab-badge.svg\" alt=\"Open In Colab\"/></a>"
      ]
    },
    {
      "cell_type": "markdown",
      "metadata": {
        "id": "Nx9aa3LAeG89"
      },
      "source": [
        "![arangodb](https://raw.githubusercontent.com/arangoml/dgl-adapter/master/examples/assets/adb_logo.png)\n",
        "<img src=\"https://raw.githubusercontent.com/arangoml/dgl-adapter/master/examples/assets/dgl_logo.png\" width=40% />"
      ]
    },
    {
      "cell_type": "markdown",
      "metadata": {
        "id": "bpvZS-1aeG89"
      },
      "source": [
        "Version: 2.0.0\n",
        "\n",
        "Objective: Export Graphs from [ArangoDB](https://www.arangodb.com/), a multi-model Graph Database, to [Deep Graph Library](https://www.dgl.ai/) (DGL), a python package for graph neural networks, and vice-versa."
      ]
    },
    {
      "cell_type": "markdown",
      "metadata": {
        "id": "KS9c-vE5eG89"
      },
      "source": [
        "# Setup"
      ]
    },
    {
      "cell_type": "code",
      "execution_count": null,
      "metadata": {
        "id": "fUnFAFAheG89"
      },
      "outputs": [],
      "source": [
        "%%capture\n",
        "!pip install adbdgl-adapter==2.0.0\n",
        "!pip install adb-cloud-connector\n",
        "!git clone -b 2.0.0 --single-branch https://github.com/arangoml/dgl-adapter.git\n",
        "\n",
        "## For drawing purposes \n",
        "!pip install matplotlib\n",
        "!pip install networkx "
      ]
    },
    {
      "cell_type": "code",
      "execution_count": 2,
      "metadata": {
        "id": "niijQHqBM6zp"
      },
      "outputs": [],
      "source": [
        "# All imports\n",
        "\n",
        "import dgl\n",
        "from dgl import remove_self_loop\n",
        "from dgl.data import MiniGCDataset\n",
        "from dgl.data import KarateClubDataset\n",
        "\n",
        "import torch\n",
        "from torch import Tensor\n",
        "\n",
        "from adbdgl_adapter import ADBDGL_Adapter, ADBDGL_Controller\n",
        "from adbdgl_adapter.typings import Json, ArangoMetagraph, DGLCanonicalEType, DGLDataDict\n",
        "\n",
        "from arango import ArangoClient\n",
        "from adb_cloud_connector import get_temp_credentials\n",
        "\n",
        "import json\n",
        "import logging\n",
        "\n",
        "import matplotlib.pyplot as plt\n",
        "import networkx as nx"
      ]
    },
    {
      "cell_type": "markdown",
      "metadata": {
        "id": "ot1oJqn7m78n"
      },
      "source": [
        "# Understanding DGL"
      ]
    },
    {
      "cell_type": "markdown",
      "metadata": {
        "id": "N6Bx3hTjnGd7"
      },
      "source": [
        "(referenced from [docs.dgl.ai](https://docs.dgl.ai/en/0.6.x/))\n",
        "\n",
        "\n",
        "Deep Graph Library (DGL) is a Python package built for easy implementation of graph neural network model family, on top of existing DL frameworks (currently supporting **PyTorch**, **MXNet** and **TensorFlow**).\n",
        "\n",
        "DGL represents a directed graph as a `DGLGraph` object. You can construct a graph by specifying the number of nodes in the graph as well as the list of source and destination nodes. **Nodes in the graph have consecutive IDs starting from 0.**\n",
        "\n",
        "The following code constructs a directed \"star\" homogeneous graph with 6 nodes and 5 edges. \n"
      ]
    },
    {
      "cell_type": "code",
      "execution_count": 14,
      "metadata": {
        "colab": {
          "base_uri": "https://localhost:8080/"
        },
        "id": "vf0350qvj8up",
        "outputId": "fbf300df-5dcd-44e8-a746-cb554eba1dd8"
      },
      "outputs": [
        {
          "name": "stdout",
          "output_type": "stream",
          "text": [
            "Graph(num_nodes=6, num_edges=5,\n",
            "      ndata_schemes={}\n",
            "      edata_schemes={})\n",
            "\n",
            "Canonical Edge Types:  [('_N', '_E', '_N')]\n"
          ]
        }
      ],
      "source": [
        "# A homogeneous graph with 6 nodes, and 5 edges\n",
        "g = dgl.graph(([0, 0, 0, 0, 0], [1, 2, 3, 4, 5]))\n",
        "print(g)\n",
        "\n",
        "# Print the graph's canonical edge types\n",
        "print(\"\\nCanonical Edge Types: \", g.canonical_etypes)\n",
        "# >>> [('_N', '_E', '_N')]\n",
        "# '_N' being the only Node type\n",
        "# '_E' being the only Edge type"
      ]
    },
    {
      "cell_type": "markdown",
      "metadata": {
        "id": "wvJ0506mkMjz"
      },
      "source": [
        "\n",
        "In DGL, a heterogeneous graph (heterograph for short) is specified with a series of graphs as below, one per relation. Each relation is a string triplet `(source node type, edge type, destination node type)`. Since relations disambiguate the edge types, DGL calls them canonical edge types:"
      ]
    },
    {
      "cell_type": "code",
      "execution_count": 15,
      "metadata": {
        "colab": {
          "base_uri": "https://localhost:8080/"
        },
        "id": "oOS3AVAnkQEV",
        "outputId": "3a7403db-d11b-4f7a-a0b7-6e8220186273"
      },
      "outputs": [
        {
          "name": "stdout",
          "output_type": "stream",
          "text": [
            "Graph(num_nodes={'game': 4, 'user': 4},\n",
            "      num_edges={('user', 'follows', 'game'): 3, ('user', 'follows', 'user'): 2, ('user', 'plays', 'game'): 2},\n",
            "      metagraph=[('user', 'game', 'follows'), ('user', 'game', 'plays'), ('user', 'user', 'follows')])\n",
            "\n",
            "Canonical Edge Types:  [('user', 'follows', 'game'), ('user', 'follows', 'user'), ('user', 'plays', 'game')]\n",
            "\n",
            "Node Types:  ['game', 'user']\n",
            "\n",
            "Edge Types:  ['follows', 'follows', 'plays']\n"
          ]
        }
      ],
      "source": [
        "# A heterogeneous graph with 8 nodes, and 7 edges\n",
        "g = dgl.heterograph({\n",
        "    ('user', 'follows', 'user'): (torch.tensor([0, 1]), torch.tensor([1, 2])),\n",
        "    ('user', 'follows', 'game'): (torch.tensor([0, 1, 2]), torch.tensor([1, 2, 3])),\n",
        "    ('user', 'plays', 'game'): (torch.tensor([1, 3]), torch.tensor([2, 3]))\n",
        "})\n",
        "\n",
        "print(g)\n",
        "print(\"\\nCanonical Edge Types: \", g.canonical_etypes)\n",
        "print(\"\\nNode Types: \", g.ntypes)\n",
        "print(\"\\nEdge Types: \", g.etypes)"
      ]
    },
    {
      "cell_type": "markdown",
      "metadata": {
        "id": "5C-R0tkkkS5N"
      },
      "source": [
        "Many graph data contain attributes on nodes and edges. Although the types of node and edge attributes can be arbitrary in real world, **DGLGraph only accepts attributes stored in tensors** (with numerical contents). Consequently, an attribute of all the nodes or edges must have the same shape. In the context of deep learning, those attributes are often called features.\n",
        "\n",
        "You can assign and retrieve node and edge features via ndata and edata interface."
      ]
    },
    {
      "cell_type": "code",
      "execution_count": 16,
      "metadata": {
        "colab": {
          "base_uri": "https://localhost:8080/"
        },
        "id": "meLon-KgkU4h",
        "outputId": "fa57e121-5294-45f9-b3d0-3a2cfa212da7"
      },
      "outputs": [
        {
          "name": "stdout",
          "output_type": "stream",
          "text": [
            "Graph(num_nodes=6, num_edges=5,\n",
            "      ndata_schemes={'x': Scheme(shape=(), dtype=torch.int64)}\n",
            "      edata_schemes={'a': Scheme(shape=(4,), dtype=torch.float32)})\n",
            "\n",
            "Node Data X attribute:  tensor([151, 124,  41,  89,  76,  55])\n",
            "\n",
            "Edge Data A attribute:  tensor([[-0.6538,  1.5450, -1.7828,  1.2241],\n",
            "        [ 1.3176, -0.0545,  0.8196,  0.0695],\n",
            "        [-0.8568,  1.3135,  0.4980, -0.4290],\n",
            "        [ 1.5448,  0.2502,  2.3616,  1.2318],\n",
            "        [-0.9194,  0.2285,  0.0267, -0.0482]])\n"
          ]
        }
      ],
      "source": [
        "# A homogeneous graph with 6 nodes, and 5 edges\n",
        "g = dgl.graph(([0, 0, 0, 0, 0], [1, 2, 3, 4, 5]))\n",
        "\n",
        "# Assign an integer value for each node.\n",
        "g.ndata['x'] = torch.tensor([151, 124, 41, 89, 76, 55])\n",
        "# Assign a 4-dimensional edge feature vector for each edge.\n",
        "g.edata['a'] = torch.randn(5, 4)\n",
        "\n",
        "print(g)\n",
        "print(\"\\nNode Data X attribute: \", g.ndata['x'])\n",
        "print(\"\\nEdge Data A attribute: \", g.edata['a'])\n",
        "\n",
        "\n",
        "# NOTE: The following line ndata insertion will fail, since not all nodes have been assigned an attribute value\n",
        "# g.ndata['bad_attribute'] = torch.tensor([0,10,20,30,40])"
      ]
    },
    {
      "cell_type": "markdown",
      "metadata": {
        "id": "ETRCZzF1lSLE"
      },
      "source": [
        "When multiple node/edge types are introduced, users need to specify the particular node/edge type when invoking a DGLGraph API for type-specific information. In addition, nodes/edges of different types have separate IDs."
      ]
    },
    {
      "cell_type": "code",
      "execution_count": 17,
      "metadata": {
        "colab": {
          "base_uri": "https://localhost:8080/"
        },
        "id": "zTebQ0LOlsGA",
        "outputId": "f5c06fec-a3e3-41fb-b478-42e492af07de"
      },
      "outputs": [
        {
          "name": "stdout",
          "output_type": "stream",
          "text": [
            "All nodes:  8\n",
            "User nodes:  4\n",
            "tensor([0, 1, 2, 3])\n"
          ]
        }
      ],
      "source": [
        "g = dgl.heterograph({\n",
        "    ('user', 'follows', 'user'): (torch.tensor([0, 1]), torch.tensor([1, 2])),\n",
        "    ('user', 'follows', 'game'): (torch.tensor([0, 1, 2]), torch.tensor([1, 2, 3])),\n",
        "    ('user', 'plays', 'game'): (torch.tensor([1, 3]), torch.tensor([2, 3]))\n",
        "})\n",
        "\n",
        "# Get the number of all nodes in the graph\n",
        "print(\"All nodes: \", g.num_nodes())\n",
        "\n",
        "# Get the number of user nodes\n",
        "print(\"User nodes: \", g.num_nodes('user'))\n",
        "\n",
        "# Nodes of different types have separate IDs,\n",
        "# hence not well-defined without a type specified\n",
        "# print(g.nodes())\n",
        "#DGLError: Node type name must be specified if there are more than one node types.\n",
        "\n",
        "print(g.nodes('user'))"
      ]
    },
    {
      "cell_type": "markdown",
      "metadata": {
        "id": "H9dwJuKvmK0w"
      },
      "source": [
        "To set/get features for a specific node/edge type, DGL provides two new types of syntax – g.nodes[‘node_type’].data[‘feat_name’] and g.edges[‘edge_type’].data[‘feat_name’].\n",
        "\n",
        "**Note:** If the graph only has one node/edge type, there is no need to specify the node/edge type."
      ]
    },
    {
      "cell_type": "code",
      "execution_count": 18,
      "metadata": {
        "colab": {
          "base_uri": "https://localhost:8080/"
        },
        "id": "KsxNujb0mSqZ",
        "outputId": "0cf12da9-c754-41a3-9496-5aea0a0faac9"
      },
      "outputs": [
        {
          "name": "stdout",
          "output_type": "stream",
          "text": [
            "defaultdict(<class 'dict'>, {'age': {'user': tensor([21, 16, 38, 64])}})\n"
          ]
        }
      ],
      "source": [
        "g = dgl.heterograph({\n",
        "    ('user', 'follows', 'user'): (torch.tensor([0, 1]), torch.tensor([1, 2])),\n",
        "    ('user', 'follows', 'game'): (torch.tensor([0, 1, 2]), torch.tensor([1, 2, 3])),\n",
        "    ('user', 'plays', 'game'): (torch.tensor([1, 3]), torch.tensor([2, 3]))\n",
        "})\n",
        "\n",
        "g.nodes['user'].data['age'] = torch.tensor([21, 16, 38, 64])\n",
        "# An alternative (yet equivalent) syntax:\n",
        "# g.ndata['age'] = {'user': torch.tensor([21, 16, 38, 64])}\n",
        "\n",
        "print(g.ndata)"
      ]
    },
    {
      "cell_type": "markdown",
      "metadata": {
        "id": "1M_isKWLnCfr"
      },
      "source": [
        "For more info, visit https://docs.dgl.ai/en/0.6.x/. "
      ]
    },
    {
      "cell_type": "markdown",
      "metadata": {
        "id": "Oc__NAd1eG8-"
      },
      "source": [
        "# Create a Temporary ArangoDB Cloud Instance"
      ]
    },
    {
      "cell_type": "code",
      "execution_count": 3,
      "metadata": {
        "colab": {
          "base_uri": "https://localhost:8080/"
        },
        "id": "2ekGwnJDeG8-",
        "outputId": "02cf35c6-9416-44fb-be44-5c0f517e0f78"
      },
      "outputs": [
        {
          "name": "stdout",
          "output_type": "stream",
          "text": [
            "Log: requesting new credentials...\n",
            "Succcess: new credentials acquired\n",
            "{\n",
            "  \"dbName\": \"TUT56z6dbtgsoeu5cc6aixs7d\",\n",
            "  \"username\": \"TUTtj3263blez70kmqdi3ts\",\n",
            "  \"password\": \"TUTf6tursgxqogdo3ww3nplb\",\n",
            "  \"hostname\": \"tutorials.arangodb.cloud\",\n",
            "  \"port\": 8529,\n",
            "  \"url\": \"https://tutorials.arangodb.cloud:8529\"\n",
            "}\n"
          ]
        }
      ],
      "source": [
        "# Request temporary instance from the managed ArangoDB Cloud Service.\n",
        "con = get_temp_credentials()\n",
        "print(json.dumps(con, indent=2))\n",
        "\n",
        "# Connect to the db via the python-arango driver\n",
        "db = ArangoClient(hosts=con[\"url\"]).db(con[\"dbName\"], con[\"username\"], con[\"password\"], verify=True)"
      ]
    },
    {
      "cell_type": "markdown",
      "metadata": {
        "id": "e4QfL37neG8_"
      },
      "source": [
        "Feel free to use to above URL to checkout the UI!"
      ]
    },
    {
      "cell_type": "markdown",
      "metadata": {
        "id": "7y81WHO8eG8_"
      },
      "source": [
        "# Data Import"
      ]
    },
    {
      "cell_type": "markdown",
      "metadata": {
        "id": "BM0iRYPDeG8_"
      },
      "source": [
        "For demo purposes, we will be using the [ArangoDB Fraud Detection example graph](https://colab.research.google.com/github/joerg84/Graph_Powered_ML_Workshop/blob/master/Fraud_Detection.ipynb)."
      ]
    },
    {
      "cell_type": "code",
      "execution_count": 4,
      "metadata": {
        "colab": {
          "base_uri": "https://localhost:8080/"
        },
        "id": "7bgGJ3QkeG8_",
        "outputId": "15b25959-5a2f-4d1c-852e-5019845716a4"
      },
      "outputs": [
        {
          "name": "stdout",
          "output_type": "stream",
          "text": [
            "\u001b[0m2022-05-25T17:23:07Z [272] INFO [05c30] {restore} Connected to ArangoDB 'http+ssl://tutorials.arangodb.cloud:8529'\n",
            "\u001b[0m\u001b[0m2022-05-25T17:23:08Z [272] INFO [abeb4] {restore} Database name in source dump is 'fraud-detection'\n",
            "\u001b[0m\u001b[0m2022-05-25T17:23:08Z [272] INFO [9b414] {restore} # Re-creating document collection '_analyzers'...\n",
            "\u001b[0m\u001b[0m2022-05-25T17:23:08Z [272] INFO [9b414] {restore} # Re-creating document collection '_appbundles'...\n",
            "\u001b[0m\u001b[0m2022-05-25T17:23:12Z [272] INFO [9b414] {restore} # Re-creating document collection '_apps'...\n",
            "\u001b[0m\u001b[0m2022-05-25T17:23:13Z [272] INFO [9b414] {restore} # Re-creating document collection '_aqlfunctions'...\n",
            "\u001b[0m\u001b[0m2022-05-25T17:23:17Z [272] INFO [9b414] {restore} # Re-creating document collection '_graphs'...\n",
            "\u001b[0m\u001b[0m2022-05-25T17:23:17Z [272] INFO [9b414] {restore} # Re-creating document collection '_modules'...\n",
            "\u001b[0m\u001b[0m2022-05-25T17:23:17Z [272] INFO [9b414] {restore} # Re-creating document collection 'account'...\n",
            "\u001b[0m\u001b[0m2022-05-25T17:23:18Z [272] INFO [9b414] {restore} # Re-creating document collection 'bank'...\n",
            "\u001b[0m\u001b[0m2022-05-25T17:23:18Z [272] INFO [9b414] {restore} # Re-creating document collection 'branch'...\n",
            "\u001b[0m\u001b[0m2022-05-25T17:23:18Z [272] INFO [9b414] {restore} # Re-creating document collection 'Class'...\n",
            "\u001b[0m\u001b[0m2022-05-25T17:23:18Z [272] INFO [9b414] {restore} # Re-creating document collection 'customer'...\n",
            "\u001b[0m\u001b[0m2022-05-25T17:23:19Z [272] INFO [9b414] {restore} # Re-creating edge collection 'accountHolder'...\n",
            "\u001b[0m\u001b[0m2022-05-25T17:23:19Z [272] INFO [9b414] {restore} # Re-creating edge collection 'Relationship'...\n",
            "\u001b[0m\u001b[0m2022-05-25T17:23:19Z [272] INFO [9b414] {restore} # Re-creating edge collection 'transaction'...\n",
            "\u001b[0m\u001b[0m2022-05-25T17:23:20Z [272] INFO [94913] {restore} # Loading data into document collection '_analyzers', data size: 20 byte(s)\n",
            "\u001b[0m\u001b[0m2022-05-25T17:23:20Z [272] INFO [6ae09] {restore} # Successfully restored document collection '_analyzers'\n",
            "\u001b[0m\u001b[0m2022-05-25T17:23:20Z [272] INFO [f723c] {restore} # Creating views...\n",
            "\u001b[0m\u001b[0m2022-05-25T17:23:20Z [272] INFO [6d69f] {restore} # Dispatched 14 job(s), using 2 worker(s)\n",
            "\u001b[0m\u001b[0m2022-05-25T17:23:20Z [272] INFO [d88c6] {restore} # Creating indexes for collection '_apps'...\n",
            "\u001b[0m\u001b[0m2022-05-25T17:23:20Z [272] INFO [94913] {restore} # Loading data into document collection '_appbundles', data size: 20 byte(s)\n",
            "\u001b[0m\u001b[0m2022-05-25T17:23:20Z [272] INFO [6ae09] {restore} # Successfully restored document collection '_appbundles'\n",
            "\u001b[0m\u001b[0m2022-05-25T17:23:20Z [272] INFO [94913] {restore} # Loading data into document collection '_aqlfunctions', data size: 20 byte(s)\n",
            "\u001b[0m\u001b[0m2022-05-25T17:23:20Z [272] INFO [6ae09] {restore} # Successfully restored document collection '_aqlfunctions'\n",
            "\u001b[0m\u001b[0m2022-05-25T17:23:20Z [272] INFO [94913] {restore} # Loading data into document collection '_graphs', data size: 292 byte(s)\n",
            "\u001b[0m\u001b[0m2022-05-25T17:23:20Z [272] INFO [6ae09] {restore} # Successfully restored document collection '_graphs'\n",
            "\u001b[0m\u001b[0m2022-05-25T17:23:20Z [272] INFO [94913] {restore} # Loading data into document collection '_modules', data size: 20 byte(s)\n",
            "\u001b[0m\u001b[0m2022-05-25T17:23:20Z [272] INFO [6ae09] {restore} # Successfully restored document collection '_modules'\n",
            "\u001b[0m\u001b[0m2022-05-25T17:23:20Z [272] INFO [d88c6] {restore} # Creating indexes for collection 'account'...\n",
            "\u001b[0m\u001b[0m2022-05-25T17:23:20Z [272] INFO [94913] {restore} # Loading data into document collection '_apps', data size: 20 byte(s)\n",
            "\u001b[0m\u001b[0m2022-05-25T17:23:20Z [272] INFO [6ae09] {restore} # Successfully restored document collection '_apps'\n",
            "\u001b[0m\u001b[0m2022-05-25T17:23:20Z [272] INFO [94913] {restore} # Loading data into document collection 'bank', data size: 183 byte(s)\n",
            "\u001b[0m\u001b[0m2022-05-25T17:23:20Z [272] INFO [94913] {restore} # Loading data into document collection 'account', data size: 1696 byte(s)\n",
            "\u001b[0m\u001b[0m2022-05-25T17:23:20Z [272] INFO [6ae09] {restore} # Successfully restored document collection 'bank'\n",
            "\u001b[0m\u001b[0m2022-05-25T17:23:20Z [272] INFO [94913] {restore} # Loading data into document collection 'branch', data size: 465 byte(s)\n",
            "\u001b[0m\u001b[0m2022-05-25T17:23:20Z [272] INFO [6ae09] {restore} # Successfully restored document collection 'account'\n",
            "\u001b[0m\u001b[0m2022-05-25T17:23:20Z [272] INFO [94913] {restore} # Loading data into document collection 'Class', data size: 196 byte(s)\n",
            "\u001b[0m\u001b[0m2022-05-25T17:23:20Z [272] INFO [6ae09] {restore} # Successfully restored document collection 'branch'\n",
            "\u001b[0m\u001b[0m2022-05-25T17:23:20Z [272] INFO [d88c6] {restore} # Creating indexes for collection 'customer'...\n",
            "\u001b[0m\u001b[0m2022-05-25T17:23:20Z [272] INFO [6ae09] {restore} # Successfully restored document collection 'Class'\n",
            "\u001b[0m\u001b[0m2022-05-25T17:23:20Z [272] INFO [94913] {restore} # Loading data into edge collection 'accountHolder', data size: 1076 byte(s)\n",
            "\u001b[0m\u001b[0m2022-05-25T17:23:20Z [272] INFO [94913] {restore} # Loading data into document collection 'customer', data size: 794 byte(s)\n",
            "\u001b[0m\u001b[0m2022-05-25T17:23:20Z [272] INFO [6ae09] {restore} # Successfully restored edge collection 'accountHolder'\n",
            "\u001b[0m\u001b[0m2022-05-25T17:23:20Z [272] INFO [94913] {restore} # Loading data into edge collection 'Relationship', data size: 275 byte(s)\n",
            "\u001b[0m\u001b[0m2022-05-25T17:23:20Z [272] INFO [6ae09] {restore} # Successfully restored document collection 'customer'\n",
            "\u001b[0m\u001b[0m2022-05-25T17:23:20Z [272] INFO [94913] {restore} # Loading data into edge collection 'transaction', data size: 2292 byte(s)\n",
            "\u001b[0m\u001b[0m2022-05-25T17:23:20Z [272] INFO [6ae09] {restore} # Successfully restored edge collection 'Relationship'\n",
            "\u001b[0m\u001b[0m2022-05-25T17:23:20Z [272] INFO [6ae09] {restore} # Successfully restored edge collection 'transaction'\n",
            "\u001b[0m\u001b[0m2022-05-25T17:23:20Z [272] INFO [a66e1] {restore} Processed 14 collection(s) in 13.360950 s, read 50480 byte(s) from datafiles, sent 9 data batch(es) of 50471 byte(s) total size\n",
            "\u001b[0m"
          ]
        }
      ],
      "source": [
        "!chmod -R 755 dgl-adapter/\n",
        "!./dgl-adapter/tests/assets/arangorestore -c none --server.endpoint http+ssl://{con[\"hostname\"]}:{con[\"port\"]} --server.username {con[\"username\"]} --server.database {con[\"dbName\"]} --server.password {con[\"password\"]} --replication-factor 3  --input-directory \"dgl-adapter/examples/data/fraud_dump\" --include-system-collections true"
      ]
    },
    {
      "cell_type": "markdown",
      "metadata": {
        "id": "QfE_tKxneG9A"
      },
      "source": [
        "# Instantiate the Adapter"
      ]
    },
    {
      "cell_type": "markdown",
      "metadata": {
        "id": "kGfhzPT9eG9A"
      },
      "source": [
        "Connect the ArangoDB-DGL Adapter to our temporary ArangoDB cluster:"
      ]
    },
    {
      "cell_type": "code",
      "execution_count": 5,
      "metadata": {
        "colab": {
          "base_uri": "https://localhost:8080/"
        },
        "id": "oG496kBeeG9A",
        "outputId": "792a3ad2-3d04-4132-d878-a5e52c58dc17"
      },
      "outputs": [
        {
          "name": "stderr",
          "output_type": "stream",
          "text": [
            "[2022/05/25 17:23:34 +0000] [60] [INFO] - adbdgl_adapter: Instantiated ADBDGL_Adapter with database 'TUT56z6dbtgsoeu5cc6aixs7d'\n"
          ]
        }
      ],
      "source": [
        "adbdgl_adapter = ADBDGL_Adapter(db)"
      ]
    },
    {
      "cell_type": "markdown",
      "metadata": {
        "id": "uByvwf9feG9A"
      },
      "source": [
        "# <u>ArangoDB to DGL</u>\n",
        "\n"
      ]
    },
    {
      "cell_type": "markdown",
      "metadata": {
        "id": "ZrEDmtqCVD0W"
      },
      "source": [
        "#### Via ArangoDB Graph"
      ]
    },
    {
      "cell_type": "markdown",
      "metadata": {
        "id": "H8nlvWCryPW0"
      },
      "source": [
        "Data source\n",
        "* ArangoDB Fraud-Detection Graph\n",
        "\n",
        "Package methods used\n",
        "* [`adbdgl_adapter.adapter.arangodb_graph_to_dgl()`](https://github.com/arangoml/dgl-adapter/blob/2.0.0/adbdgl_adapter/adapter.py#L198-L213)\n",
        "\n",
        "Important notes\n",
        "* The `name` parameter in this case must point to an existing ArangoDB graph in your ArangoDB instance. "
      ]
    },
    {
      "cell_type": "code",
      "execution_count": 6,
      "metadata": {
        "colab": {
          "base_uri": "https://localhost:8080/"
        },
        "id": "zZ-Hu3lLVHgd",
        "outputId": "d1c38c22-eebb-456d-8e4c-140ddd9baed8"
      },
      "outputs": [
        {
          "name": "stderr",
          "output_type": "stream",
          "text": [
            "[2022/05/25 17:23:40 +0000] [60] [INFO] - adbdgl_adapter: Created DGL 'fraud-detection' Graph\n"
          ]
        },
        {
          "name": "stdout",
          "output_type": "stream",
          "text": [
            "\n",
            "--------------------\n",
            "Graph(num_nodes={'account': 54, 'customer': 17},\n",
            "      num_edges={('account', 'accountHolder', 'customer'): 54, ('account', 'transaction', 'account'): 62},\n",
            "      metagraph=[('account', 'customer', 'accountHolder'), ('account', 'account', 'transaction')])\n",
            "['account', 'customer']\n",
            "['accountHolder', 'transaction']\n"
          ]
        }
      ],
      "source": [
        "# Define graph name\n",
        "graph_name = \"fraud-detection\"\n",
        "\n",
        "# Create DGL graph from ArangoDB graph\n",
        "dgl_g = adbdgl_adapter.arangodb_graph_to_dgl(graph_name)\n",
        "\n",
        "# You can also provide valid Python-Arango AQL query options to the command above, like such:\n",
        "# dgl_g = aadbdgl_adapter.arangodb_graph_to_dgl(graph_name, ttl=1000, stream=True)\n",
        "# See more here: https://docs.python-arango.com/en/main/specs.html#arango.aql.AQL.execute\n",
        "\n",
        "# Show graph data\n",
        "print('\\n--------------------')\n",
        "print(dgl_g)\n",
        "print(dgl_g.ntypes)\n",
        "print(dgl_g.etypes)"
      ]
    },
    {
      "cell_type": "markdown",
      "metadata": {
        "id": "RQ4CknYfUEuz"
      },
      "source": [
        "#### Via ArangoDB Collections"
      ]
    },
    {
      "cell_type": "markdown",
      "metadata": {
        "id": "bRcCmqWGy1Kf"
      },
      "source": [
        "Data source\n",
        "* ArangoDB Fraud-Detection Collections\n",
        "\n",
        "Package methods used\n",
        "* [`adbdgl_adapter.adapter.arangodb_collections_to_dgl()`](https://github.com/arangoml/dgl-adapter/blob/2.0.0/adbdgl_adapter/adapter.py#L169-L196)\n",
        "\n",
        "Important notes\n",
        "* The `name` parameter in this case is simply for naming your DGL graph.\n",
        "* The `vertex_collections` & `edge_collections` parameters must point to existing ArangoDB collections within your ArangoDB instance."
      ]
    },
    {
      "cell_type": "code",
      "execution_count": 7,
      "metadata": {
        "colab": {
          "base_uri": "https://localhost:8080/"
        },
        "id": "i4XOpdRLUNlJ",
        "outputId": "4d53a3d0-316b-40c2-d841-5fb29fa1358b"
      },
      "outputs": [
        {
          "name": "stderr",
          "output_type": "stream",
          "text": [
            "[2022/05/25 17:23:46 +0000] [60] [INFO] - adbdgl_adapter: Created DGL 'fraud-detection' Graph\n"
          ]
        },
        {
          "name": "stdout",
          "output_type": "stream",
          "text": [
            "\n",
            "--------------------\n",
            "Graph(num_nodes={'Class': 4, 'account': 54, 'customer': 17},\n",
            "      num_edges={('Class', 'Relationship', 'Class'): 4, ('account', 'accountHolder', 'customer'): 54, ('account', 'transaction', 'account'): 62},\n",
            "      metagraph=[('Class', 'Class', 'Relationship'), ('account', 'customer', 'accountHolder'), ('account', 'account', 'transaction')])\n",
            "['Class', 'account', 'customer']\n",
            "['Relationship', 'accountHolder', 'transaction']\n"
          ]
        }
      ],
      "source": [
        "# Define collection names\n",
        "vertex_collections = {\"account\", \"Class\", \"customer\"}\n",
        "edge_collections = {\"accountHolder\", \"Relationship\", \"transaction\"}\n",
        "\n",
        "# Create DGL from ArangoDB collections\n",
        "dgl_g = adbdgl_adapter.arangodb_collections_to_dgl(\"fraud-detection\", vertex_collections, edge_collections)\n",
        "\n",
        "# You can also provide valid Python-Arango AQL query options to the command above, like such:\n",
        "# dgl_g = adbdgl_adapter.arangodb_collections_to_dgl(\"fraud-detection\", vertex_collections, edge_collections, ttl=1000, stream=True)\n",
        "# See more here: https://docs.python-arango.com/en/main/specs.html#arango.aql.AQL.execute\n",
        "\n",
        "# Show graph data\n",
        "print('\\n--------------------')\n",
        "print(dgl_g)\n",
        "print(dgl_g.ntypes)\n",
        "print(dgl_g.etypes)"
      ]
    },
    {
      "cell_type": "markdown",
      "metadata": {
        "id": "qEH6OdSB23Ya"
      },
      "source": [
        "#### Via ArangoDB Metagraph"
      ]
    },
    {
      "cell_type": "markdown",
      "metadata": {
        "id": "PipFzJ0HzTMA"
      },
      "source": [
        "Data source\n",
        "* ArangoDB Fraud-Detection Collections\n",
        "\n",
        "Package methods used\n",
        "* [`adbdgl_adapter.adapter.arangodb_to_dgl()`](https://github.com/arangoml/dgl-adapter/blob/2.0.0/adbdgl_adapter/adapter.py#L70-L167)\n",
        "\n",
        "Important notes\n",
        "* The `name` parameter in this case is simply for naming your DGL graph.\n",
        "* The `metagraph` parameter should contain collections & associated document attributes names that exist within your ArangoDB instance."
      ]
    },
    {
      "cell_type": "code",
      "execution_count": 8,
      "metadata": {
        "colab": {
          "base_uri": "https://localhost:8080/"
        },
        "id": "7Kz8lXXq23Yk",
        "outputId": "7804e7ba-3760-4eb5-8669-f6fa20948262"
      },
      "outputs": [
        {
          "name": "stderr",
          "output_type": "stream",
          "text": [
            "[2022/05/25 17:23:50 +0000] [60] [INFO] - adbdgl_adapter: Created DGL 'FraudDetection' Graph\n"
          ]
        },
        {
          "name": "stdout",
          "output_type": "stream",
          "text": [
            "\n",
            "--------------\n",
            "Graph(num_nodes={'Class': 4, 'account': 54, 'customer': 17},\n",
            "      num_edges={('Class', 'Relationship', 'Class'): 4, ('account', 'accountHolder', 'customer'): 54, ('account', 'transaction', 'account'): 62},\n",
            "      metagraph=[('Class', 'Class', 'Relationship'), ('account', 'customer', 'accountHolder'), ('account', 'account', 'transaction')])\n",
            "\n",
            "--------------\n",
            "defaultdict(<class 'dict'>, {'concrete': {'Class': tensor([True, True, True, True])}, 'customer_id': {'account': tensor([10000009, 10000004, 10000004, 10000010, 10000002, 10000011, 10000015,\n",
            "        10000006, 10000010,    10810, 10000002, 10000014, 10000008,        0,\n",
            "        10000002,        0, 10000008, 10000006, 10000012, 10000015, 10000001,\n",
            "        10000010, 10000015, 10000005, 10000009, 10000008, 10000011, 10000014,\n",
            "        10000010, 10000006, 10000002, 10000007, 10000006, 10000005,        0,\n",
            "        10000010,    10810,        0, 10000009, 10000006, 10000002, 10000005,\n",
            "        10000009, 10000012, 10000007, 10000002, 10000014,        0,    10810,\n",
            "        10000016, 10000006, 10000016, 10000013,    10810])}, 'Balance': {'account': tensor([5331, 7630, 1433, 2201, 4837, 5817, 1689, 1042, 4104,   10, 2338,   10,\n",
            "        3779,    0,  529,    0, 1992, 2912, 6367, 1819,    0,  221, 5062, 2372,\n",
            "         841, 5393, 1138, 8414, 4064, 5686, 6294, 6540, 7358, 3452,    0, 3993,\n",
            "          10,    0,  471, 8148, 5832, 1758, 1747, 1679, 6789, 1599, 8320,    0,\n",
            "          10, 8626, 7199, 8644, 3879,   10])}, 'rank': {'account': tensor([0.0021, 0.0031, 0.0052, 0.0021, 0.0046, 0.0037, 0.0032, 0.0042, 0.0021,\n",
            "        0.0021, 0.0030, 0.0037, 0.0040, 0.0037, 0.0021, 0.0046, 0.0040, 0.0030,\n",
            "        0.0026, 0.0032, 0.0021, 0.0034, 0.0032, 0.0021, 0.0021, 0.0035, 0.0026,\n",
            "        0.0026, 0.0046, 0.0021, 0.0021, 0.0035, 0.0036, 0.0036, 0.0038, 0.0055,\n",
            "        0.0021, 0.0041, 0.0044, 0.0021, 0.0030, 0.0035, 0.0033, 0.0026, 0.0071,\n",
            "        0.0036, 0.0032, 0.0059, 0.0021, 0.0090, 0.0057, 0.0032, 0.0026, 0.0021]), 'customer': tensor([0.0135, 0.0050, 0.0062, 0.0066, 0.0096, 0.0088, 0.0089, 0.0047, 0.0066,\n",
            "        0.0045, 0.0062, 0.0103, 0.0081, 0.0039, 0.0054, 0.0044, 0.0093])}})\n",
            "--------------\n",
            "\n",
            "defaultdict(<class 'dict'>, {'receiver_bank_id': {('account', 'transaction', 'account'): tensor([10000000003, 10000000003, 10000000001, 10000000002, 10000000002,\n",
            "        10000000003, 10000000001, 10000000003, 10000000001, 10000000003,\n",
            "        10000000002, 10000000003,           0, 10000000003, 10000000003,\n",
            "                  0, 10000000001,           0, 10000000002, 10000000003,\n",
            "        10000000003, 10000000003, 10000000001,           0, 10000000003,\n",
            "        10000000002, 10000000003, 10000000003, 10000000001, 10000000001,\n",
            "        10000000003, 10000000003, 10000000003, 10000000003, 10000000001,\n",
            "        10000000002,           0, 10000000001, 10000000001, 10000000002,\n",
            "        10000000001, 10000000003, 10000000003, 10000000003, 10000000001,\n",
            "        10000000003, 10000000002, 10000000003, 10000000002, 10000000001,\n",
            "        10000000003,           0, 10000000003, 10000000003,           0,\n",
            "        10000000003, 10000000002, 10000000002, 10000000001, 10000000003,\n",
            "        10000000003, 10000000003])}, 'sender_bank_id': {('account', 'transaction', 'account'): tensor([10000000003, 10000000002, 10000000001, 10000000001, 10000000002,\n",
            "        10000000003, 10000000003, 10000000002, 10000000002, 10000000003,\n",
            "        10000000001, 10000000001,           0, 10000000003, 10000000003,\n",
            "                  0, 10000000002,           0, 10000000001, 10000000003,\n",
            "        10000000001, 10000000003, 10000000002,           0, 10000000003,\n",
            "        10000000003, 10000000003, 10000000003, 10000000001, 10000000001,\n",
            "        10000000002, 10000000001, 10000000003, 10000000003, 10000000001,\n",
            "        10000000001,           0, 10000000003, 10000000002, 10000000001,\n",
            "        10000000002, 10000000003, 10000000003, 10000000003, 10000000002,\n",
            "        10000000003, 10000000002, 10000000003, 10000000002, 10000000001,\n",
            "        10000000001,           0, 10000000003, 10000000003,           0,\n",
            "        10000000003, 10000000003, 10000000001, 10000000001, 10000000003,\n",
            "        10000000003, 10000000002])}, 'transaction_amt': {('account', 'transaction', 'account'): tensor([9000,  299,  498,  954,  756,  627,  142,  946,  920, 9000,  421,  343,\n",
            "        9000,  457, 9000, 9000,   53, 9000,  284,  120,  441, 9000,  364,  901,\n",
            "        9000,  279, 9000, 9000,  273,  127,  952,  354,  795, 9000,  835,  761,\n",
            "        9000,  478,  172,  804,  665,  995, 9000, 9000,  670, 9000,  340, 9000,\n",
            "         747,  347,   52,  911,  762, 9000,    0,  790,  619,  491,  954, 9000,\n",
            "        9000,  843])}})\n"
          ]
        }
      ],
      "source": [
        "# Define Metagraph\n",
        "fraud_detection_metagraph = {\n",
        "    \"vertexCollections\": {\n",
        "        \"account\": {\"rank\", \"Balance\", \"customer_id\"},\n",
        "        \"Class\": {\"concrete\"},\n",
        "        \"customer\": {\"rank\"},\n",
        "    },\n",
        "    \"edgeCollections\": {\n",
        "        \"accountHolder\": {},\n",
        "        \"Relationship\": {},\n",
        "        \"transaction\": {\"receiver_bank_id\", \"sender_bank_id\", \"transaction_amt\"},\n",
        "    },\n",
        "}\n",
        "\n",
        "# Create DGL Graph from attributes\n",
        "dgl_g = adbdgl_adapter.arangodb_to_dgl('FraudDetection',  fraud_detection_metagraph)\n",
        "\n",
        "# You can also provide valid Python-Arango AQL query options to the command above, like such:\n",
        "# dgl_g = adbdgl_adapter.arangodb_to_dgl(graph_name = 'FraudDetection',  fraud_detection_metagraph, ttl=1000, stream=True)\n",
        "# See more here: https://docs.python-arango.com/en/main/specs.html#arango.aql.AQL.execute\n",
        "\n",
        "# Show graph data\n",
        "print('\\n--------------')\n",
        "print(dgl_g)\n",
        "print('\\n--------------')\n",
        "print(dgl_g.ndata)\n",
        "print('--------------\\n')\n",
        "print(dgl_g.edata)"
      ]
    },
    {
      "cell_type": "markdown",
      "metadata": {
        "id": "DqIKT1lO4ASw"
      },
      "source": [
        "#### Via ArangoDB Metagraph with a custom controller and verbose logging"
      ]
    },
    {
      "cell_type": "markdown",
      "metadata": {
        "id": "PGkGh_KjzlYM"
      },
      "source": [
        "Data source\n",
        "* ArangoDB Fraud-Detection Collections\n",
        "\n",
        "Package methods used\n",
        "* [`adbdgl_adapter.adapter.arangodb_to_dgl()`](https://github.com/arangoml/dgl-adapter/blob/2.0.0/adbdgl_adapter/adapter.py#L70-L167)\n",
        "* [`adbdgl_adapter.controller._adb_attribute_to_dgl_feature()`](https://github.com/arangoml/dgl-adapter/blob/2.0.0/adbdgl_adapter/controller.py#L21-L47)\n",
        "\n",
        "Important notes\n",
        "* The `name` parameter in this case is simply for naming your DGL graph.\n",
        "* The `metagraph` parameter should contain collections & associated document attributes names that exist within your ArangoDB instance.\n",
        "* We are creating a custom `ADBDGL_Controller` to specify *how* to convert our ArangoDB vertex/edge attributes into DGL node/edge features. View the default `ADBDGL_Controller` [here](https://github.com/arangoml/dgl-adapter/blob/2.0.0/adbdgl_adapter/controller.py#L11)."
      ]
    },
    {
      "cell_type": "code",
      "execution_count": 9,
      "metadata": {
        "colab": {
          "base_uri": "https://localhost:8080/"
        },
        "id": "U4_vSdU_4AS4",
        "outputId": "8af82665-9ae6-40d4-ada2-248edd993291"
      },
      "outputs": [
        {
          "name": "stderr",
          "output_type": "stream",
          "text": [
            "[2022/05/25 17:23:56 +0000] [60] [INFO] - adbdgl_adapter: Instantiated ADBDGL_Adapter with database 'TUT56z6dbtgsoeu5cc6aixs7d'\n",
            "[2022/05/25 17:23:56 +0000] [60] [DEBUG] - adbdgl_adapter: Starting arangodb_to_dgl(FraudDetection, ...):\n",
            "[2022/05/25 17:23:56 +0000] [60] [DEBUG] - adbdgl_adapter: Preparing 'account' vertices\n",
            "[2022/05/25 17:23:56 +0000] [60] [DEBUG] - adbdgl_adapter: Preparing 'Class' vertices\n",
            "[2022/05/25 17:23:57 +0000] [60] [DEBUG] - adbdgl_adapter: Preparing 'customer' vertices\n",
            "[2022/05/25 17:23:57 +0000] [60] [DEBUG] - adbdgl_adapter: Preparing 'accountHolder' edges\n",
            "[2022/05/25 17:23:57 +0000] [60] [DEBUG] - adbdgl_adapter: Preparing 'Relationship' edges\n",
            "[2022/05/25 17:23:57 +0000] [60] [DEBUG] - adbdgl_adapter: Preparing 'transaction' edges\n",
            "[2022/05/25 17:23:57 +0000] [60] [DEBUG] - adbdgl_adapter: Is graph 'FraudDetection' homogenous? False\n",
            "[2022/05/25 17:23:57 +0000] [60] [DEBUG] - adbdgl_adapter: Inserting 54 'rank' features into 'account'\n",
            "[2022/05/25 17:23:57 +0000] [60] [DEBUG] - adbdgl_adapter: Inserting 17 'rank' features into 'customer'\n",
            "[2022/05/25 17:23:57 +0000] [60] [DEBUG] - adbdgl_adapter: Inserting 4 'name' features into 'Class'\n",
            "[2022/05/25 17:23:57 +0000] [60] [DEBUG] - adbdgl_adapter: Inserting 4 'concrete' features into 'Class'\n",
            "[2022/05/25 17:23:57 +0000] [60] [DEBUG] - adbdgl_adapter: Inserting 17 'Ssn' features into 'customer'\n",
            "[2022/05/25 17:23:57 +0000] [60] [DEBUG] - adbdgl_adapter: Inserting 17 'Sex' features into 'customer'\n",
            "[2022/05/25 17:23:57 +0000] [60] [DEBUG] - adbdgl_adapter: Inserting 62 'trans_time' features into 'transaction'\n",
            "[2022/05/25 17:23:57 +0000] [60] [DEBUG] - adbdgl_adapter: Inserting 62 'transaction_amt' features into 'transaction'\n",
            "[2022/05/25 17:23:57 +0000] [60] [DEBUG] - adbdgl_adapter: Inserting 62 'receiver_bank_id' features into 'transaction'\n",
            "[2022/05/25 17:23:57 +0000] [60] [DEBUG] - adbdgl_adapter: Inserting 62 'transaction_date' features into 'transaction'\n",
            "[2022/05/25 17:23:57 +0000] [60] [DEBUG] - adbdgl_adapter: Inserting 62 'sender_bank_id' features into 'transaction'\n",
            "[2022/05/25 17:23:57 +0000] [60] [INFO] - adbdgl_adapter: Created DGL 'FraudDetection' Graph\n"
          ]
        },
        {
          "name": "stdout",
          "output_type": "stream",
          "text": [
            "\n",
            "--------------\n",
            "Graph(num_nodes={'Class': 4, 'account': 54, 'customer': 17},\n",
            "      num_edges={('Class', 'Relationship', 'Class'): 4, ('account', 'accountHolder', 'customer'): 54, ('account', 'transaction', 'account'): 62},\n",
            "      metagraph=[('Class', 'Class', 'Relationship'), ('account', 'customer', 'accountHolder'), ('account', 'account', 'transaction')])\n",
            "\n",
            "--------------\n",
            "defaultdict(<class 'dict'>, {'name': {'Class': tensor([0, 1, 2, 3])}, 'concrete': {'Class': tensor([True, True, True, True])}, 'rank': {'account': tensor([0.0021, 0.0031, 0.0052, 0.0021, 0.0046, 0.0037, 0.0032, 0.0042, 0.0021,\n",
            "        0.0021, 0.0030, 0.0037, 0.0040, 0.0037, 0.0021, 0.0046, 0.0040, 0.0030,\n",
            "        0.0026, 0.0032, 0.0021, 0.0034, 0.0032, 0.0021, 0.0021, 0.0035, 0.0026,\n",
            "        0.0026, 0.0046, 0.0021, 0.0021, 0.0035, 0.0036, 0.0036, 0.0038, 0.0055,\n",
            "        0.0021, 0.0041, 0.0044, 0.0021, 0.0030, 0.0035, 0.0033, 0.0026, 0.0071,\n",
            "        0.0036, 0.0032, 0.0059, 0.0021, 0.0090, 0.0057, 0.0032, 0.0026, 0.0021]), 'customer': tensor([0.0135, 0.0050, 0.0062, 0.0066, 0.0096, 0.0088, 0.0089, 0.0047, 0.0066,\n",
            "        0.0045, 0.0062, 0.0103, 0.0081, 0.0039, 0.0054, 0.0044, 0.0093])}, 'Ssn': {'customer': tensor([123456786, 123456780, 123456780, 123456787, 123456780, 123456789,\n",
            "        123456780, 123456785, 123456783, 123456784, 123456780, 123456788,\n",
            "        123456782, 123456781, 123456780, 123456780, 111223333])}, 'Sex': {'customer': tensor([1, 1, 0, 0, 1, 0, 0, 0, 0, 1, 0, 1, 1, 0, 0, 0, 1])}})\n",
            "--------------\n",
            "\n",
            "defaultdict(<class 'dict'>, {'trans_time': {('account', 'transaction', 'account'): tensor([1136, 1516, 1340, 1030, 1552, 1116, 1450,  924, 1046, 1426, 1247, 1459,\n",
            "           0, 1459, 1258,    0, 1758,    0, 1230, 1210, 1252, 1039, 1741,    0,\n",
            "        1420, 1713, 1710, 1028, 1636, 1054, 1658, 1332, 1316,  955, 1629, 1642,\n",
            "           0, 1710,  932, 1652, 1018, 1527, 1555, 1640, 1158, 1035, 1015, 1133,\n",
            "        1320, 1514, 1213,    0, 1133, 1340,    0, 1026, 1312, 1027, 1745, 1342,\n",
            "        1520, 1141])}, 'transaction_amt': {('account', 'transaction', 'account'): tensor([9000,  299,  498,  954,  756,  627,  142,  946,  920, 9000,  421,  343,\n",
            "        9000,  457, 9000, 9000,   53, 9000,  284,  120,  441, 9000,  364,  901,\n",
            "        9000,  279, 9000, 9000,  273,  127,  952,  354,  795, 9000,  835,  761,\n",
            "        9000,  478,  172,  804,  665,  995, 9000, 9000,  670, 9000,  340, 9000,\n",
            "         747,  347,   52,  911,  762, 9000,    0,  790,  619,  491,  954, 9000,\n",
            "        9000,  843])}, 'receiver_bank_id': {('account', 'transaction', 'account'): tensor([10000000003, 10000000003, 10000000001, 10000000002, 10000000002,\n",
            "        10000000003, 10000000001, 10000000003, 10000000001, 10000000003,\n",
            "        10000000002, 10000000003,           0, 10000000003, 10000000003,\n",
            "                  0, 10000000001,           0, 10000000002, 10000000003,\n",
            "        10000000003, 10000000003, 10000000001,           0, 10000000003,\n",
            "        10000000002, 10000000003, 10000000003, 10000000001, 10000000001,\n",
            "        10000000003, 10000000003, 10000000003, 10000000003, 10000000001,\n",
            "        10000000002,           0, 10000000001, 10000000001, 10000000002,\n",
            "        10000000001, 10000000003, 10000000003, 10000000003, 10000000001,\n",
            "        10000000003, 10000000002, 10000000003, 10000000002, 10000000001,\n",
            "        10000000003,           0, 10000000003, 10000000003,           0,\n",
            "        10000000003, 10000000002, 10000000002, 10000000001, 10000000003,\n",
            "        10000000003, 10000000003])}, 'transaction_date': {('account', 'transaction', 'account'): tensor([  201966,   201721,  2017528,  2018924,  2017516,  2018128,  2019213,\n",
            "          201847,  2017914,   201966,  2017810, 20181020,        0,  2017724,\n",
            "          201966,        0,  2019311,        0,  2018211,  2018125,   201932,\n",
            "          201966,   201795,        0,   201966,  2017111,   201966,   201966,\n",
            "         2019822,  2017317,  2019124,  2017121,  2017110,   201966,  2017717,\n",
            "        20181012,        0, 20181023,  2019724,  2019611,  2019928,  2019117,\n",
            "          201966,   201966,  2017328,   201966,  2019316,   201966,  2017914,\n",
            "         2017521,   201713,        0,  2018124,   201966,        0,   201784,\n",
            "          201713, 20171212,  2019413,   201966,   201966,   201887])}, 'sender_bank_id': {('account', 'transaction', 'account'): tensor([10000000003, 10000000002, 10000000001, 10000000001, 10000000002,\n",
            "        10000000003, 10000000003, 10000000002, 10000000002, 10000000003,\n",
            "        10000000001, 10000000001,           0, 10000000003, 10000000003,\n",
            "                  0, 10000000002,           0, 10000000001, 10000000003,\n",
            "        10000000001, 10000000003, 10000000002,           0, 10000000003,\n",
            "        10000000003, 10000000003, 10000000003, 10000000001, 10000000001,\n",
            "        10000000002, 10000000001, 10000000003, 10000000003, 10000000001,\n",
            "        10000000001,           0, 10000000003, 10000000002, 10000000001,\n",
            "        10000000002, 10000000003, 10000000003, 10000000003, 10000000002,\n",
            "        10000000003, 10000000002, 10000000003, 10000000002, 10000000001,\n",
            "        10000000001,           0, 10000000003, 10000000003,           0,\n",
            "        10000000003, 10000000003, 10000000001, 10000000001, 10000000003,\n",
            "        10000000003, 10000000002])}})\n"
          ]
        }
      ],
      "source": [
        "# Define Metagraph\n",
        "fraud_detection_metagraph = {\n",
        "    \"vertexCollections\": {\n",
        "        \"account\": {\"rank\"},\n",
        "        \"Class\": {\"concrete\", \"name\"},\n",
        "        \"customer\": {\"Sex\", \"Ssn\", \"rank\"},\n",
        "    },\n",
        "    \"edgeCollections\": {\n",
        "        \"accountHolder\": {},\n",
        "        \"Relationship\": {},\n",
        "        \"transaction\": {\"receiver_bank_id\", \"sender_bank_id\", \"transaction_amt\", \"transaction_date\", \"trans_time\"},\n",
        "    },\n",
        "}\n",
        "\n",
        "# A user-defined Controller class is REQUIRED when converting non-numerical\n",
        "# ArangoDB attributes to DGL features.\n",
        "class FraudDetection_ADBDGL_Controller(ADBDGL_Controller):\n",
        "    \"\"\"ArangoDB-DGL controller.\n",
        "\n",
        "    Responsible for controlling how ArangoDB attributes\n",
        "    are converted into DGL features, and vice-versa.\n",
        "\n",
        "    You can derive your own custom ADBDGL_Controller if you want to maintain\n",
        "    consistency between your ArangoDB attributes & your DGL features.\n",
        "    \"\"\"\n",
        "\n",
        "    def _adb_attribute_to_dgl_feature(self, key: str, col: str, val):\n",
        "        \"\"\"\n",
        "        Given an ArangoDB attribute key, its assigned value (for an arbitrary document),\n",
        "        and the collection it belongs to, convert it to a valid\n",
        "        DGL feature: https://docs.dgl.ai/en/0.6.x/guide/graph-feature.html.\n",
        "\n",
        "        NOTE: You must override this function if you want to transfer non-numerical\n",
        "        ArangoDB attributes to DGL (DGL only accepts 'attributes' (a.k.a features)\n",
        "        of numerical types). Read more about DGL features here:\n",
        "        https://docs.dgl.ai/en/0.6.x/new-tutorial/2_dglgraph.html#assigning-node-and-edge-features-to-graph.\n",
        "\n",
        "        :param key: The ArangoDB attribute key name\n",
        "        :type key: str\n",
        "        :param col: The ArangoDB collection of the ArangoDB document.\n",
        "        :type col: str\n",
        "        :param val: The assigned attribute value of the ArangoDB document.\n",
        "        :type val: Any\n",
        "        :return: The attribute's representation as a DGL Feature\n",
        "        :rtype: Any\n",
        "        \"\"\"\n",
        "        try:\n",
        "          if col == \"transaction\":\n",
        "            if key == \"transaction_date\":\n",
        "              return int(str(val).replace(\"-\", \"\"))\n",
        "    \n",
        "            if key == \"trans_time\":\n",
        "              return int(str(val).replace(\":\", \"\"))\n",
        "    \n",
        "          if col == \"customer\":\n",
        "            if key == \"Sex\":\n",
        "              return {\n",
        "                  \"M\": 0,\n",
        "                  \"F\": 1\n",
        "              }.get(val, -1)\n",
        "\n",
        "            if key == \"Ssn\":\n",
        "              return int(str(val).replace(\"-\", \"\"))\n",
        "\n",
        "          if col == \"Class\":\n",
        "            if key == \"name\":\n",
        "              return {\n",
        "                  \"Bank\": 0,\n",
        "                  \"Branch\": 1,\n",
        "                  \"Account\": 2,\n",
        "                  \"Customer\": 3\n",
        "              }.get(val, -1)\n",
        "\n",
        "        except (ValueError, TypeError, SyntaxError):\n",
        "          return 0\n",
        "\n",
        "        # Rely on the parent Controller as a final measure\n",
        "        return super()._adb_attribute_to_dgl_feature(key, col, val)\n",
        "\n",
        "# Instantiate the new adapter\n",
        "fraud_adbdgl_adapter = ADBDGL_Adapter(db, FraudDetection_ADBDGL_Controller())\n",
        "\n",
        "# You can also change the adapter's logging level for access to \n",
        "# silent, regular, or verbose logging (logging.WARNING, logging.INFO, logging.DEBUG)\n",
        "fraud_adbdgl_adapter.set_logging(logging.DEBUG) # verbose logging\n",
        "\n",
        "# Create DGL Graph from attributes\n",
        "dgl_g = fraud_adbdgl_adapter.arangodb_to_dgl('FraudDetection',  fraud_detection_metagraph)\n",
        "\n",
        "# You can also provide valid Python-Arango AQL query options to the command above, like such:\n",
        "# dgl_g = fraud_adbdgl_adapter.arangodb_to_dgl(graph_name = 'FraudDetection',  fraud_detection_metagraph, ttl=1000, stream=True)\n",
        "# See more here: https://docs.python-arango.com/en/main/specs.html#arango.aql.AQL.execute\n",
        "\n",
        "# Show graph data\n",
        "print('\\n--------------')\n",
        "print(dgl_g)\n",
        "print('\\n--------------')\n",
        "print(dgl_g.ndata)\n",
        "print('--------------\\n')\n",
        "print(dgl_g.edata)"
      ]
    },
    {
      "cell_type": "markdown",
      "metadata": {
        "id": "bvzJXSHHTi3v"
      },
      "source": [
        "# <u>DGL to ArangoDB</u>"
      ]
    },
    {
      "cell_type": "markdown",
      "metadata": {
        "id": "UafSB_3JZNwK"
      },
      "source": [
        "#### Karate Graph"
      ]
    },
    {
      "cell_type": "markdown",
      "metadata": {
        "id": "tx-tjPfx0U_h"
      },
      "source": [
        "Data source\n",
        "* [DGL Karate Graph](https://docs.dgl.ai/en/0.6.x/api/python/dgl.data.html#karate-club-dataset)\n",
        "\n",
        "Package methods used\n",
        "* [`adbdgl_adapter.adapter.dgl_to_arangodb()`](https://github.com/arangoml/dgl-adapter/blob/2.0.0/adbdgl_adapter/adapter.py#L215-L311)\n",
        "\n",
        "Important notes\n",
        "* The `name` parameter in this case is simply for naming your ArangoDB graph."
      ]
    },
    {
      "cell_type": "code",
      "execution_count": 10,
      "metadata": {
        "colab": {
          "base_uri": "https://localhost:8080/",
          "height": 683
        },
        "id": "eRVbiBy4ZdE4",
        "outputId": "c629be2d-1bc9-4539-c7f2-d3ae46676659"
      },
      "outputs": [
        {
          "name": "stderr",
          "output_type": "stream",
          "text": [
            "[2022/05/25 17:24:04 +0000] [60] [DEBUG] - adbdgl_adapter: Starting dgl_to_arangodb(Karate, ...):\n",
            "[2022/05/25 17:24:04 +0000] [60] [DEBUG] - adbdgl_adapter: Is graph 'Karate' using default canonical_etypes? True\n",
            "[2022/05/25 17:24:04 +0000] [60] [DEBUG] - adbdgl_adapter: Is graph 'Karate' homogenous? True\n",
            "[2022/05/25 17:24:04 +0000] [60] [DEBUG] - adbdgl_adapter: Preparing 34 'Karate_N' DGL nodes\n",
            "[2022/05/25 17:24:04 +0000] [60] [DEBUG] - adbdgl_adapter: Preparing 156 'Karate_E' DGL edges\n",
            "[2022/05/25 17:24:04 +0000] [60] [DEBUG] - adbdgl_adapter: Inserting last 34 documents into 'Karate_N'\n",
            "[2022/05/25 17:24:05 +0000] [60] [DEBUG] - adbdgl_adapter: Inserting last 156 documents into 'Karate_E'\n",
            "[2022/05/25 17:24:05 +0000] [60] [INFO] - adbdgl_adapter: Created ArangoDB 'Karate' Graph\n"
          ]
        },
        {
          "name": "stdout",
          "output_type": "stream",
          "text": [
            "\n",
            "--------------------\n",
            "URL: https://tutorials.arangodb.cloud:8529\n",
            "Username: TUTtj3263blez70kmqdi3ts\n",
            "Password: TUTf6tursgxqogdo3ww3nplb\n",
            "Database: TUT56z6dbtgsoeu5cc6aixs7d\n",
            "--------------------\n",
            "\n",
            "View the created graph here: https://tutorials.arangodb.cloud:8529/_db/TUT56z6dbtgsoeu5cc6aixs7d/_admin/aardvark/index.html#graph/Karate\n",
            "\n",
            "\n",
            "View the original graph below:\n",
            "\n"
          ]
        },
        {
          "data": {
            "image/png": "[encoded data removed]",
            "text/plain": [
              "<Figure size 432x288 with 1 Axes>"
            ]
          },
          "metadata": {},
          "output_type": "display_data"
        }
      ],
      "source": [
        "# Create the DGL graph & draw it\n",
        "dgl_karate_graph = KarateClubDataset()[0]\n",
        "nx.draw(dgl_karate_graph.to_networkx(), with_labels=True)\n",
        "\n",
        "name = \"Karate\"\n",
        "\n",
        "# Delete the graph if it already exists\n",
        "db.delete_graph(name, drop_collections=True, ignore_missing=True)\n",
        "\n",
        "# Create the ArangoDB graph\n",
        "adb_karate_graph = adbdgl_adapter.dgl_to_arangodb(name, dgl_karate_graph)\n",
        "\n",
        "print('\\n--------------------')\n",
        "print(\"URL: \" + con[\"url\"])\n",
        "print(\"Username: \" + con[\"username\"])\n",
        "print(\"Password: \" + con[\"password\"])\n",
        "print(\"Database: \" + con[\"dbName\"])\n",
        "print('--------------------\\n')\n",
        "print(f\"View the created graph here: {con['url']}/_db/{con['dbName']}/_admin/aardvark/index.html#graph/{name}\\n\")\n",
        "print(f\"View the original graph below:\\n\")"
      ]
    },
    {
      "cell_type": "markdown",
      "metadata": {
        "id": "gshTlSX_ZZsS"
      },
      "source": [
        "\n",
        "#### MiniGCDataset Graphs"
      ]
    },
    {
      "cell_type": "markdown",
      "metadata": {
        "id": "KaExiE2x0-M6"
      },
      "source": [
        "Data source\n",
        "* [DGL Mini Graph Classification Dataset](https://docs.dgl.ai/en/0.6.x/api/python/dgl.data.html#mini-graph-classification-dataset)\n",
        "\n",
        "Package methods used\n",
        "* [`adbdgl_adapter.adapter.dgl_to_arangodb()`](https://github.com/arangoml/dgl-adapter/blob/2.0.0/adbdgl_adapter/adapter.py#L215-L311)\n",
        "\n",
        "Important notes\n",
        "* The `name` parameters in this case are simply for naming your ArangoDB graph."
      ]
    },
    {
      "cell_type": "code",
      "execution_count": 12,
      "metadata": {
        "colab": {
          "base_uri": "https://localhost:8080/",
          "height": 1000
        },
        "id": "dADiexlAioGH",
        "outputId": "9921ec34-b860-49e8-f8cb-0b403029ead4"
      },
      "outputs": [
        {
          "name": "stderr",
          "output_type": "stream",
          "text": [
            "[2022/05/25 17:24:48 +0000] [60] [DEBUG] - adbdgl_adapter: Starting dgl_to_arangodb(Lollipop, ...):\n",
            "[2022/05/25 17:24:48 +0000] [60] [DEBUG] - adbdgl_adapter: Is graph 'Lollipop' using default canonical_etypes? True\n",
            "[2022/05/25 17:24:48 +0000] [60] [DEBUG] - adbdgl_adapter: Is graph 'Lollipop' homogenous? True\n",
            "[2022/05/25 17:24:48 +0000] [60] [DEBUG] - adbdgl_adapter: Preparing 7 'Lollipop_N' DGL nodes\n",
            "[2022/05/25 17:24:48 +0000] [60] [DEBUG] - adbdgl_adapter: Preparing 24 'Lollipop_E' DGL edges\n",
            "[2022/05/25 17:24:48 +0000] [60] [DEBUG] - adbdgl_adapter: Inserting last 7 documents into 'Lollipop_N'\n",
            "[2022/05/25 17:24:48 +0000] [60] [DEBUG] - adbdgl_adapter: Inserting last 24 documents into 'Lollipop_E'\n",
            "[2022/05/25 17:24:48 +0000] [60] [INFO] - adbdgl_adapter: Created ArangoDB 'Lollipop' Graph\n",
            "[2022/05/25 17:24:48 +0000] [60] [DEBUG] - adbdgl_adapter: Starting dgl_to_arangodb(Hypercube, ...):\n",
            "[2022/05/25 17:24:48 +0000] [60] [DEBUG] - adbdgl_adapter: Is graph 'Hypercube' using default canonical_etypes? True\n",
            "[2022/05/25 17:24:49 +0000] [60] [DEBUG] - adbdgl_adapter: Is graph 'Hypercube' homogenous? True\n",
            "[2022/05/25 17:24:49 +0000] [60] [DEBUG] - adbdgl_adapter: Preparing 8 'Hypercube_N' DGL nodes\n",
            "[2022/05/25 17:24:49 +0000] [60] [DEBUG] - adbdgl_adapter: Preparing 24 'Hypercube_E' DGL edges\n",
            "[2022/05/25 17:24:49 +0000] [60] [DEBUG] - adbdgl_adapter: Inserting last 8 documents into 'Hypercube_N'\n",
            "[2022/05/25 17:24:49 +0000] [60] [DEBUG] - adbdgl_adapter: Inserting last 24 documents into 'Hypercube_E'\n",
            "[2022/05/25 17:24:49 +0000] [60] [INFO] - adbdgl_adapter: Created ArangoDB 'Hypercube' Graph\n",
            "[2022/05/25 17:24:49 +0000] [60] [DEBUG] - adbdgl_adapter: Starting dgl_to_arangodb(Clique, ...):\n",
            "[2022/05/25 17:24:49 +0000] [60] [DEBUG] - adbdgl_adapter: Is graph 'Clique' using default canonical_etypes? True\n",
            "[2022/05/25 17:24:49 +0000] [60] [DEBUG] - adbdgl_adapter: Is graph 'Clique' homogenous? True\n",
            "[2022/05/25 17:24:49 +0000] [60] [DEBUG] - adbdgl_adapter: Preparing 6 'Clique_N' DGL nodes\n",
            "[2022/05/25 17:24:49 +0000] [60] [DEBUG] - adbdgl_adapter: Preparing 30 'Clique_E' DGL edges\n",
            "[2022/05/25 17:24:49 +0000] [60] [DEBUG] - adbdgl_adapter: Inserting last 6 documents into 'Clique_N'\n",
            "[2022/05/25 17:24:49 +0000] [60] [DEBUG] - adbdgl_adapter: Inserting last 30 documents into 'Clique_E'\n",
            "[2022/05/25 17:24:49 +0000] [60] [INFO] - adbdgl_adapter: Created ArangoDB 'Clique' Graph\n"
          ]
        },
        {
          "name": "stdout",
          "output_type": "stream",
          "text": [
            "\n",
            "--------------------\n",
            "URL: https://tutorials.arangodb.cloud:8529\n",
            "Username: TUTtj3263blez70kmqdi3ts\n",
            "Password: TUTf6tursgxqogdo3ww3nplb\n",
            "Database: TUT56z6dbtgsoeu5cc6aixs7d\n",
            "--------------------\n",
            "\n",
            "\\View the created graphs here:\n",
            "\n",
            "1) https://tutorials.arangodb.cloud:8529/_db/TUT56z6dbtgsoeu5cc6aixs7d/_admin/aardvark/index.html#graph/Lollipop\n",
            "2) https://tutorials.arangodb.cloud:8529/_db/TUT56z6dbtgsoeu5cc6aixs7d/_admin/aardvark/index.html#graph/Hypercube\n",
            "3) https://tutorials.arangodb.cloud:8529/_db/TUT56z6dbtgsoeu5cc6aixs7d/_admin/aardvark/index.html#graph/Clique\n",
            "\n",
            "View the original graphs below:\n",
            "\n"
          ]
        },
        {
          "data": {
            "image/png": "[encoded data removed]",
            "text/plain": [
              "<Figure size 432x288 with 1 Axes>"
            ]
          },
          "metadata": {},
          "output_type": "display_data"
        },
        {
          "data": {
            "image/png": "[encoded data removed]",
            "text/plain": [
              "<Figure size 432x288 with 1 Axes>"
            ]
          },
          "metadata": {},
          "output_type": "display_data"
        },
        {
          "data": {
            "image/png": "[encoded data removed]",
            "text/plain": [
              "<Figure size 432x288 with 1 Axes>"
            ]
          },
          "metadata": {},
          "output_type": "display_data"
        }
      ],
      "source": [
        "# Load the dgl graphs & draw:\n",
        "## 1) Lollipop Graph\n",
        "dgl_lollipop_graph = remove_self_loop(MiniGCDataset(8, 7, 8)[3][0])\n",
        "plt.figure(1)\n",
        "nx.draw(dgl_lollipop_graph.to_networkx(), with_labels=True)\n",
        "\n",
        "## 2) Hypercube Graph\n",
        "dgl_hypercube_graph = remove_self_loop(MiniGCDataset(8, 8, 9)[4][0])\n",
        "plt.figure(2)\n",
        "nx.draw(dgl_hypercube_graph.to_networkx(), with_labels=True)\n",
        "\n",
        "## 3) Clique Graph\n",
        "dgl_clique_graph = remove_self_loop(MiniGCDataset(8, 6, 7)[6][0])\n",
        "plt.figure(3)\n",
        "nx.draw(dgl_clique_graph.to_networkx(), with_labels=True)\n",
        "\n",
        "lollipop = \"Lollipop\"\n",
        "hypercube = \"Hypercube\"\n",
        "clique = \"Clique\"\n",
        "\n",
        "# Delete the graphs from ArangoDB if they already exist\n",
        "db.delete_graph(lollipop, drop_collections=True, ignore_missing=True)\n",
        "db.delete_graph(hypercube, drop_collections=True, ignore_missing=True)\n",
        "db.delete_graph(clique, drop_collections=True, ignore_missing=True)\n",
        "\n",
        "# Create the ArangoDB graphs\n",
        "adb_lollipop_graph = adbdgl_adapter.dgl_to_arangodb(lollipop, dgl_lollipop_graph)\n",
        "adb_hypercube_graph = adbdgl_adapter.dgl_to_arangodb(hypercube, dgl_hypercube_graph)\n",
        "adb_clique_graph = adbdgl_adapter.dgl_to_arangodb(clique, dgl_clique_graph)\n",
        "\n",
        "print('\\n--------------------')\n",
        "print(\"URL: \" + con[\"url\"])\n",
        "print(\"Username: \" + con[\"username\"])\n",
        "print(\"Password: \" + con[\"password\"])\n",
        "print(\"Database: \" + con[\"dbName\"])\n",
        "print('--------------------\\n')\n",
        "print(\"View the created graphs here:\\n\")\n",
        "print(f\"1) {con['url']}/_db/{con['dbName']}/_admin/aardvark/index.html#graph/{lollipop}\")\n",
        "print(f\"2) {con['url']}/_db/{con['dbName']}/_admin/aardvark/index.html#graph/{hypercube}\")\n",
        "print(f\"3) {con['url']}/_db/{con['dbName']}/_admin/aardvark/index.html#graph/{clique}\\n\")\n",
        "print(f\"View the original graphs below:\\n\")"
      ]
    },
    {
      "cell_type": "markdown",
      "metadata": {
        "id": "CNj1xKhwoJoL"
      },
      "source": [
        "\n",
        "#### MiniGCDataset Graphs with attributes"
      ]
    },
    {
      "cell_type": "markdown",
      "metadata": {
        "id": "CZ1UX9YX1Zzo"
      },
      "source": [
        "Data source\n",
        "* [DGL Mini Graph Classification Dataset](https://docs.dgl.ai/en/0.6.x/api/python/dgl.data.html#mini-graph-classification-dataset)\n",
        "\n",
        "Package methods used\n",
        "* [`adbdgl_adapter.adapter.dgl_to_arangodb()`](https://github.com/arangoml/dgl-adapter/blob/2.0.0/adbdgl_adapter/adapter.py#L215-L311)\n",
        "* [`adbdgl_adapter.controller._dgl_feature_to_adb_attribute()`](https://github.com/arangoml/dgl-adapter/blob/2.0.0/adbdgl_adapter/controller.py#L49-L70)\n",
        "\n",
        "Important notes\n",
        "* The `name` parameters in this case are simply for naming your ArangoDB graph.\n",
        "* We are creating a custom `ADBDGL_Controller` to specify *how* to convert our DGL node/edge features into ArangoDB vertex/edge attributes. View the default `ADBDGL_Controller` [here](https://github.com/arangoml/dgl-adapter/blob/2.0.0/adbdgl_adapter/controller.py#L11)."
      ]
    },
    {
      "cell_type": "code",
      "execution_count": 13,
      "metadata": {
        "colab": {
          "base_uri": "https://localhost:8080/"
        },
        "id": "jbJsvMMaoJoT",
        "outputId": "6dba7563-84b8-4934-a07f-1525ef67bd5e"
      },
      "outputs": [
        {
          "name": "stderr",
          "output_type": "stream",
          "text": [
            "[2022/05/25 17:25:16 +0000] [60] [INFO] - adbdgl_adapter: Instantiated ADBDGL_Adapter with database 'TUT56z6dbtgsoeu5cc6aixs7d'\n",
            "[2022/05/25 17:25:17 +0000] [60] [INFO] - adbdgl_adapter: Created ArangoDB 'Lollipop_With_Attributes' Graph\n",
            "[2022/05/25 17:25:17 +0000] [60] [INFO] - adbdgl_adapter: Created ArangoDB 'Hypercube_With_Attributes' Graph\n",
            "[2022/05/25 17:25:18 +0000] [60] [INFO] - adbdgl_adapter: Created ArangoDB 'Clique_With_Attributes' Graph\n"
          ]
        },
        {
          "name": "stdout",
          "output_type": "stream",
          "text": [
            "\n",
            "--------------------\n",
            "URL: https://tutorials.arangodb.cloud:8529\n",
            "Username: TUTtj3263blez70kmqdi3ts\n",
            "Password: TUTf6tursgxqogdo3ww3nplb\n",
            "Database: TUT56z6dbtgsoeu5cc6aixs7d\n",
            "--------------------\n",
            "\n",
            "\\View the created graphs here:\n",
            "\n",
            "1) https://tutorials.arangodb.cloud:8529/_db/TUT56z6dbtgsoeu5cc6aixs7d/_admin/aardvark/index.html#graph/Lollipop_With_Attributes\n",
            "2) https://tutorials.arangodb.cloud:8529/_db/TUT56z6dbtgsoeu5cc6aixs7d/_admin/aardvark/index.html#graph/Hypercube_With_Attributes\n",
            "3) https://tutorials.arangodb.cloud:8529/_db/TUT56z6dbtgsoeu5cc6aixs7d/_admin/aardvark/index.html#graph/Clique_With_Attributes\n",
            "\n"
          ]
        }
      ],
      "source": [
        "# Load the dgl graphs\n",
        "dgl_lollipop_graph = remove_self_loop(MiniGCDataset(8, 7, 8)[3][0])\n",
        "dgl_hypercube_graph = remove_self_loop(MiniGCDataset(8, 8, 9)[4][0])\n",
        "dgl_clique_graph = remove_self_loop(MiniGCDataset(8, 6, 7)[6][0])\n",
        "\n",
        " # Add DGL Node & Edge Features to each graph\n",
        "dgl_lollipop_graph.ndata[\"random_ndata\"] = torch.tensor(\n",
        "    [[i, i, i] for i in range(0, dgl_lollipop_graph.num_nodes())]\n",
        ")\n",
        "dgl_lollipop_graph.edata[\"random_edata\"] = torch.rand(dgl_lollipop_graph.num_edges())\n",
        "\n",
        "dgl_hypercube_graph.ndata[\"random_ndata\"] = torch.rand(dgl_hypercube_graph.num_nodes())\n",
        "dgl_hypercube_graph.edata[\"random_edata\"] = torch.tensor(\n",
        "    [[[i], [i], [i]] for i in range(0, dgl_hypercube_graph.num_edges())]\n",
        ")\n",
        "\n",
        "dgl_clique_graph.ndata['clique_ndata'] = torch.tensor([1,2,3,4,5,6])\n",
        "dgl_clique_graph.edata['clique_edata'] = torch.tensor(\n",
        "    [1 if i % 2 == 0 else 0 for i in range(0, dgl_clique_graph.num_edges())]\n",
        ")\n",
        "\n",
        "# A user-defined Controller class is OPTIONAL when converting DGL features\n",
        "# to ArangoDB attributes. NOTE: A custom Controller is NOT needed if you want to\n",
        "# keep the numerical-based values of your DGL features.\n",
        "class Clique_ADBDGL_Controller(ADBDGL_Controller):\n",
        "    \"\"\"ArangoDB-DGL controller.\n",
        "\n",
        "    Responsible for controlling how ArangoDB attributes\n",
        "    are converted into DGL features, and vice-versa.\n",
        "\n",
        "    You can derive your own custom ADBDGL_Controller if you want to maintain\n",
        "    consistency between your ArangoDB attributes & your DGL features.\n",
        "    \"\"\"\n",
        "\n",
        "    def _dgl_feature_to_adb_attribute(self, key: str, col: str, val: Tensor):\n",
        "        \"\"\"\n",
        "        Given a DGL feature key, its assigned value (for an arbitrary node or edge),\n",
        "        and the collection it belongs to, convert it to a valid ArangoDB attribute\n",
        "        (e.g string, list, number, ...).\n",
        "\n",
        "        NOTE: No action is needed here if you want to keep the numerical-based values\n",
        "        of your DGL features.\n",
        "\n",
        "        :param key: The DGL attribute key name\n",
        "        :type key: str\n",
        "        :param col: The ArangoDB collection of the (soon-to-be) ArangoDB document.\n",
        "        :type col: str\n",
        "        :param val: The assigned attribute value of the DGL node.\n",
        "        :type val: Tensor\n",
        "        :return: The feature's representation as an ArangoDB Attribute\n",
        "        :rtype: Any\n",
        "        \"\"\"\n",
        "\n",
        "        if key == \"clique_ndata\":\n",
        "          try:\n",
        "            return [\"Eins\", \"Zwei\", \"Drei\", \"Vier\", \"Fünf\", \"Sechs\"][key-1]\n",
        "          except:\n",
        "            return -1\n",
        "\n",
        "        if key == \"clique_edata\":\n",
        "          return bool(val)\n",
        "\n",
        "        return super()._dgl_feature_to_adb_attribute(key, col, val)\n",
        "\n",
        "# Re-instantiate a new adapter specifically for the Clique Graph Conversion\n",
        "clique_adbgl_adapter = ADBDGL_Adapter(db, Clique_ADBDGL_Controller())\n",
        "\n",
        "# Create the ArangoDB graphs\n",
        "lollipop = \"Lollipop_With_Attributes\"\n",
        "hypercube = \"Hypercube_With_Attributes\"\n",
        "clique = \"Clique_With_Attributes\"\n",
        "\n",
        "db.delete_graph(lollipop, drop_collections=True, ignore_missing=True)\n",
        "db.delete_graph(hypercube, drop_collections=True, ignore_missing=True)\n",
        "db.delete_graph(clique, drop_collections=True, ignore_missing=True)\n",
        "\n",
        "adb_lollipop_graph = adbdgl_adapter.dgl_to_arangodb(lollipop, dgl_lollipop_graph)\n",
        "adb_hypercube_graph = adbdgl_adapter.dgl_to_arangodb(hypercube, dgl_hypercube_graph)\n",
        "adb_clique_graph = clique_adbgl_adapter.dgl_to_arangodb(clique, dgl_clique_graph) # Notice the new adapter here!\n",
        "\n",
        "print('\\n--------------------')\n",
        "print(\"URL: \" + con[\"url\"])\n",
        "print(\"Username: \" + con[\"username\"])\n",
        "print(\"Password: \" + con[\"password\"])\n",
        "print(\"Database: \" + con[\"dbName\"])\n",
        "print('--------------------\\n')\n",
        "print(\"View the created graphs here:\\n\")\n",
        "print(f\"1) {con['url']}/_db/{con['dbName']}/_admin/aardvark/index.html#graph/{lollipop}\")\n",
        "print(f\"2) {con['url']}/_db/{con['dbName']}/_admin/aardvark/index.html#graph/{hypercube}\")\n",
        "print(f\"3) {con['url']}/_db/{con['dbName']}/_admin/aardvark/index.html#graph/{clique}\\n\")"
      ]
    }
  ],
  "metadata": {
    "colab": {
      "collapsed_sections": [
        "KS9c-vE5eG89",
        "ot1oJqn7m78n",
        "Oc__NAd1eG8-",
        "7y81WHO8eG8_",
        "QfE_tKxneG9A",
        "uByvwf9feG9A",
        "bvzJXSHHTi3v"
      ],
      "name": "ArangoDB_DGL_Adapter_v2.ipynb",
      "provenance": []
    },
    "kernelspec": {
      "display_name": "Python 3",
      "language": "python",
      "name": "python3"
    },
    "language_info": {
      "codemirror_mode": {
        "name": "ipython",
        "version": 3
      },
      "file_extension": ".py",
      "mimetype": "text/x-python",
      "name": "python",
      "nbconvert_exporter": "python",
      "pygments_lexer": "ipython3",
      "version": "3.7.6"
    }
  },
  "nbformat": 4,
  "nbformat_minor": 0
}
